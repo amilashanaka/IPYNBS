{
 "cells": [
  {
   "cell_type": "code",
   "execution_count": 1,
   "metadata": {},
   "outputs": [
    {
     "data": {
      "application/javascript": [
       "\n",
       "try {\n",
       "require(['notebook/js/codecell'], function(codecell) {\n",
       "  codecell.CodeCell.options_default.highlight_modes[\n",
       "      'magic_text/x-csrc'] = {'reg':[/^%%microblaze/]};\n",
       "  Jupyter.notebook.events.one('kernel_ready.Kernel', function(){\n",
       "      Jupyter.notebook.get_cells().map(function(cell){\n",
       "          if (cell.cell_type == 'code'){ cell.auto_highlight(); } }) ;\n",
       "  });\n",
       "});\n",
       "} catch (e) {};\n"
      ]
     },
     "metadata": {},
     "output_type": "display_data"
    }
   ],
   "source": [
    "from pynq import Overlay\n",
    "import pynq.lib as lib\n",
    "import time\n",
    "\n",
    "# Load the SPI overlay\n",
    "ol = Overlay(\"spi.bit\")\n",
    "spi = ol.axi_quad_spi_0\n",
    "\n",
    "# SPI initialization function\n",
    "def init(spi):\n",
    "    print(\"Initializing SPI...\")\n",
    "    spi.write(0x40, 0x0a)       # Configure the SPI\n",
    "    spi.write(0x28, 0x04)\n",
    "    spi.write(0x1c, 0x00)\n",
    "    spi.write(0x70, 0xFFFFFFFF)\n",
    "    \n",
    "    ctrlreg = spi.read(0x60)    # Read control register\n",
    "    print(f\"Initial Control Register (0x60): {hex(ctrlreg)}\")\n",
    "    \n",
    "    ctrlreg = ctrlreg | 0xe6    # Modify control register\n",
    "    spi.write(0x60, ctrlreg)\n",
    "    \n",
    "    ctrlreg = spi.read(0x60)    # Ensure the control register is correctly set\n",
    "    print(f\"Modified Control Register (0x60): {hex(ctrlreg)}\")\n",
    "    \n",
    "    ctrlreg = ctrlreg & ~(0x15)\n",
    "    spi.write(0x60, ctrlreg)\n",
    "    \n",
    "    print(\"SPI Initialized.\")\n",
    "\n",
    "# SPI transfer function with timeout\n",
    "def transfer(packet, spi, timeout=1):\n",
    "    for data in packet:\n",
    "        print(f\"Writing data: {hex(data)} to Tx FIFO\")\n",
    "        spi.write(0x68, data)   # Write data to Tx FIFO\n",
    "        spi.write(0x70, 0xFFFFFFFE)   # Start transfer\n",
    "        \n",
    "        ctrlreg = spi.read(0x60)\n",
    "        ctrlreg = ctrlreg & ~(0x100)  # Clear the transfer complete flag\n",
    "        spi.write(0x60, ctrlreg)\n",
    "        \n",
    "        # Wait for transfer to complete with a timeout\n",
    "        start_time = time.time()\n",
    "        statReg = spi.read(0x64)\n",
    "        while (statReg & 0x04) == 0:\n",
    "            if time.time() - start_time > timeout:\n",
    "                print(\"Timeout during transfer\")\n",
    "                return None  # Timeout occurred\n",
    "            statReg = spi.read(0x64)\n",
    "        \n",
    "        print(\"Transfer completed.\")\n",
    "        \n",
    "        ctrlreg = spi.read(0x60)\n",
    "        ctrlreg = ctrlreg | 0x100     # Set the transfer complete flag\n",
    "        spi.write(0x60, ctrlreg)\n",
    "    \n",
    "    spi.write(0x70, 0xFFFFFFFF)       # Reset the SPI interface\n",
    "    \n",
    "    recvData = list()\n",
    "    # Read data from Rx FIFO with a timeout\n",
    "    start_time = time.time()\n",
    "    RxFifoStatus = spi.read(0x64) & 0x01\n",
    "    while RxFifoStatus == 0:\n",
    "        if time.time() - start_time > timeout:\n",
    "            print(\"Timeout while reading Rx FIFO\")\n",
    "            return None  # Timeout occurred\n",
    "        temp = spi.read(0x6c)         # Read data from Rx FIFO\n",
    "        recvData.append(temp)\n",
    "        RxFifoStatus = spi.read(0x64) & 0x01\n",
    "    \n",
    "    print(f\"Received data: {recvData}\")\n",
    "    return recvData\n",
    "\n",
    "\n",
    "\n",
    "\n"
   ]
  },
  {
   "cell_type": "code",
   "execution_count": 2,
   "metadata": {},
   "outputs": [
    {
     "name": "stdout",
     "output_type": "stream",
     "text": [
      "hi\n"
     ]
    }
   ],
   "source": [
    "print(\"hi\")"
   ]
  },
  {
   "cell_type": "code",
   "execution_count": 3,
   "metadata": {},
   "outputs": [
    {
     "name": "stdout",
     "output_type": "stream",
     "text": [
      "Initializing SPI...\n",
      "Initial Control Register (0x60): 0x180\n",
      "Modified Control Register (0x60): 0x186\n",
      "SPI Initialized.\n",
      "Testing single packet transfer...\n",
      "Writing data: 0x0 to Tx FIFO\n",
      "Timeout during transfer\n",
      "No data received or transfer error.\n"
     ]
    }
   ],
   "source": [
    "# Main test program for a single data point transfer\n",
    "init(spi)\n",
    "packet = [0x00]  # Adjust the packet content as per your SPI device\n",
    "print(\"Testing single packet transfer...\")\n",
    "data = transfer(packet, spi)\n",
    "\n",
    "if data is not None:\n",
    "    print(f\"Data received: {data}\")\n",
    "else:\n",
    "    print(\"No data received or transfer error.\")"
   ]
  },
  {
   "cell_type": "code",
   "execution_count": 4,
   "metadata": {},
   "outputs": [],
   "source": [
    "def init(spi):\n",
    "    print(\"Initializing SPI...\")\n",
    "    # Set SPI control registers to configure clock polarity (CPOL) and phase (CPHA)\n",
    "    spi.write(0x40, 0x0a)       # Set up SPI with the correct mode and settings\n",
    "    spi.write(0x28, 0x04)       # Ensure correct settings for your device\n",
    "    spi.write(0x1c, 0x00)\n",
    "    \n",
    "    # Set a lower clock frequency for SPI (adjust as needed)\n",
    "    spi.write(0x14, 0x001F)     # Lower clock divisor (experiment with this value)\n",
    "    \n",
    "    spi.write(0x70, 0xFFFFFFFF)\n",
    "    \n",
    "    ctrlreg = spi.read(0x60)    # Read control register\n",
    "    print(f\"Initial Control Register (0x60): {hex(ctrlreg)}\")\n",
    "    \n",
    "    ctrlreg = ctrlreg | 0xe6    # Modify control register\n",
    "    spi.write(0x60, ctrlreg)\n",
    "    \n",
    "    ctrlreg = spi.read(0x60)    # Ensure the control register is correctly set\n",
    "    print(f\"Modified Control Register (0x60): {hex(ctrlreg)}\")\n",
    "    \n",
    "    ctrlreg = ctrlreg & ~(0x15)\n",
    "    spi.write(0x60, ctrlreg)\n",
    "    \n",
    "    print(\"SPI Initialized.\")\n"
   ]
  },
  {
   "cell_type": "code",
   "execution_count": 5,
   "metadata": {},
   "outputs": [],
   "source": [
    "packet = [0x01]  # Command to read from channel 1 (example)\n"
   ]
  },
  {
   "cell_type": "code",
   "execution_count": 6,
   "metadata": {},
   "outputs": [
    {
     "name": "stdout",
     "output_type": "stream",
     "text": [
      "Initializing SPI...\n",
      "Initial Control Register (0x60): 0x180\n",
      "Modified Control Register (0x60): 0x186\n",
      "SPI Initialized.\n",
      "Testing single packet transfer...\n",
      "Writing data: 0x1 to Tx FIFO\n",
      "Timeout during transfer\n",
      "No data received or transfer error.\n"
     ]
    }
   ],
   "source": [
    "init(spi)\n",
    "packet = [0x01]  # Adjust the packet content based on the Pmod AD1 protocol\n",
    "print(\"Testing single packet transfer...\")\n",
    "data = transfer(packet, spi)\n",
    "\n",
    "if data is not None:\n",
    "    print(f\"Data received: {data}\")\n",
    "else:\n",
    "    print(\"No data received or transfer error.\")\n"
   ]
  },
  {
   "cell_type": "code",
   "execution_count": 7,
   "metadata": {},
   "outputs": [],
   "source": [
    "def init(spi):\n",
    "    print(\"Initializing SPI...\")\n",
    "    # Configure SPI Mode 0 (CPOL=0, CPHA=0)\n",
    "    spi.write(0x40, 0x00)       # Set SPI Mode 0\n",
    "    \n",
    "    # Set clock divisor for slower clock (experiment with this)\n",
    "    spi.write(0x14, 0x001F)     # Reduce SPI clock speed for stability\n",
    "    \n",
    "    spi.write(0x28, 0x04)\n",
    "    spi.write(0x1c, 0x00)\n",
    "    spi.write(0x70, 0xFFFFFFFF)\n",
    "    \n",
    "    ctrlreg = spi.read(0x60)    # Read control register\n",
    "    print(f\"Initial Control Register (0x60): {hex(ctrlreg)}\")\n",
    "    \n",
    "    ctrlreg = ctrlreg | 0xe6    # Modify control register\n",
    "    spi.write(0x60, ctrlreg)\n",
    "    \n",
    "    ctrlreg = spi.read(0x60)    # Ensure the control register is correctly set\n",
    "    print(f\"Modified Control Register (0x60): {hex(ctrlreg)}\")\n",
    "    \n",
    "    ctrlreg = ctrlreg & ~(0x15)\n",
    "    spi.write(0x60, ctrlreg)\n",
    "    \n",
    "    print(\"SPI Initialized.\")\n"
   ]
  },
  {
   "cell_type": "code",
   "execution_count": 8,
   "metadata": {},
   "outputs": [],
   "source": [
    "def transfer(packet, spi, timeout=1):\n",
    "    print(f\"Sending packet: {packet}\")\n",
    "    \n",
    "    # Manually assert CS (if needed)\n",
    "    # spi.write(0xXX, CS low)  # Set CS low, depending on how CS is handled in your system\n",
    "\n",
    "    for data in packet:\n",
    "        print(f\"Writing data: {hex(data)} to Tx FIFO\")\n",
    "        spi.write(0x68, data)   # Write data to Tx FIFO\n",
    "        spi.write(0x70, 0xFFFFFFFE)   # Start transfer\n",
    "        \n",
    "        ctrlreg = spi.read(0x60)\n",
    "        ctrlreg = ctrlreg & ~(0x100)  # Clear the transfer complete flag\n",
    "        spi.write(0x60, ctrlreg)\n",
    "        \n",
    "        # Wait for transfer to complete with a timeout\n",
    "        start_time = time.time()\n",
    "        statReg = spi.read(0x64)\n",
    "        while (statReg & 0x04) == 0:\n",
    "            if time.time() - start_time > timeout:\n",
    "                print(\"Timeout during transfer\")\n",
    "                return None  # Timeout occurred\n",
    "            statReg = spi.read(0x64)\n",
    "        \n",
    "        print(\"Transfer completed.\")\n",
    "        \n",
    "        ctrlreg = spi.read(0x60)\n",
    "        ctrlreg = ctrlreg | 0x100     # Set the transfer complete flag\n",
    "        spi.write(0x60, ctrlreg)\n",
    "    \n",
    "    spi.write(0x70, 0xFFFFFFFF)       # Reset the SPI interface\n",
    "    \n",
    "    recvData = list()\n",
    "    # Read data from Rx FIFO with a timeout\n",
    "    start_time = time.time()\n",
    "    RxFifoStatus = spi.read(0x64) & 0x01\n",
    "    while RxFifoStatus == 0:\n",
    "        if time.time() - start_time > timeout:\n",
    "            print(\"Timeout while reading Rx FIFO\")\n",
    "            return None  # Timeout occurred\n",
    "        temp = spi.read(0x6c)         # Read data from Rx FIFO\n",
    "        recvData.append(temp)\n",
    "        RxFifoStatus = spi.read(0x64) & 0x01\n",
    "    \n",
    "    print(f\"Received data: {recvData}\")\n",
    "    \n",
    "    # Manually release CS (if needed)\n",
    "    # spi.write(0xXX, CS high)  # Set CS high, if necessary\n",
    "    \n",
    "    return recvData\n"
   ]
  },
  {
   "cell_type": "code",
   "execution_count": null,
   "metadata": {},
   "outputs": [],
   "source": [
    "try:\n",
    "    init(spi)\n",
    "    print(\"Initialization successful.\")\n",
    "except Exception as e:\n",
    "    print(f\"Error during initialization: {e}\")\n"
   ]
  },
  {
   "cell_type": "code",
   "execution_count": null,
   "metadata": {},
   "outputs": [],
   "source": []
  }
 ],
 "metadata": {
  "kernelspec": {
   "display_name": "Python 3",
   "language": "python",
   "name": "python3"
  },
  "language_info": {
   "codemirror_mode": {
    "name": "ipython",
    "version": 3
   },
   "file_extension": ".py",
   "mimetype": "text/x-python",
   "name": "python",
   "nbconvert_exporter": "python",
   "pygments_lexer": "ipython3",
   "version": "3.6.5"
  }
 },
 "nbformat": 4,
 "nbformat_minor": 2
}
