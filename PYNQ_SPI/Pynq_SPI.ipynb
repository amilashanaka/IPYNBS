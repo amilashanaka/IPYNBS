{
 "cells": [
  {
   "cell_type": "code",
   "execution_count": 1,
   "metadata": {},
   "outputs": [
    {
     "data": {
      "application/javascript": [
       "\n",
       "try {\n",
       "require(['notebook/js/codecell'], function(codecell) {\n",
       "  codecell.CodeCell.options_default.highlight_modes[\n",
       "      'magic_text/x-csrc'] = {'reg':[/^%%microblaze/]};\n",
       "  Jupyter.notebook.events.one('kernel_ready.Kernel', function(){\n",
       "      Jupyter.notebook.get_cells().map(function(cell){\n",
       "          if (cell.cell_type == 'code'){ cell.auto_highlight(); } }) ;\n",
       "  });\n",
       "});\n",
       "} catch (e) {};\n"
      ]
     },
     "metadata": {},
     "output_type": "display_data"
    }
   ],
   "source": [
    "import pynq\n",
    "from pynq import Overlay\n",
    "from pynq import MMIO\n",
    "import time\n",
    "from operator import*\n",
    "# Load the overlay (bitstream)\n",
    "ol = Overlay(\"spi.bit\")\n",
    "ol?"
   ]
  },
  {
   "cell_type": "code",
   "execution_count": 2,
   "metadata": {},
   "outputs": [],
   "source": [
    "axi_quad_spi=ol.axi_quad_spi_0\n",
    "axi_quad_spi?"
   ]
  },
  {
   "cell_type": "code",
   "execution_count": null,
   "metadata": {},
   "outputs": [],
   "source": [
    "axi_quad_spi.register_map.SPICR.SPE =1"
   ]
  },
  {
   "cell_type": "code",
   "execution_count": 45,
   "metadata": {},
   "outputs": [
    {
     "name": "stdout",
     "output_type": "stream",
     "text": [
      "1105199104\n"
     ]
    }
   ],
   "source": [
    "# Access the IP dictionary to find the address of the axi_quad_spi_0\n",
    "spi_ip = ol.ip_dict['axi_quad_spi_0']\n",
    "spi_base_address = (spi_ip['phys_addr'])\n",
    "spi_address_range = (spi_ip['addr_range']) \n",
    "\n",
    "print(spi_base_address)"
   ]
  },
  {
   "cell_type": "code",
   "execution_count": 46,
   "metadata": {},
   "outputs": [],
   "source": [
    "#spi_base_address = 0x41E00000\n",
    "#spi_address_range= 0x1000\n",
    "# Set up MMIO for AXI Quad SPI\n",
    "spi_mmio = MMIO(spi_address_range, spi_address_range)\n",
    "spi_mmio.debug = True"
   ]
  },
  {
   "cell_type": "code",
   "execution_count": 47,
   "metadata": {},
   "outputs": [],
   "source": [
    "\n",
    "# Define the register offsets relative to the base address\n",
    "SPI_SPICR_OFFSET = 0x60  # SPI Control Register\n",
    "SPI_SPISR_OFFSET = 0x64  # SPI Status Register\n",
    "SPI_TXD_OFFSET   = 0x68  # SPI Transmit FIFO\n",
    "SPI_RXD_OFFSET   = 0x78  # SPI Receive FIFO\n",
    "SPI_SPISSR_OFFSET = 0x70  # SPI Slave Select Register\n",
    "# Configure SPI Control Register (SPICR) with a value (enable SPI, master mode, etc.)\n",
    "SPICR_ENABLE = 0x00000086  # Enable SPI in master mode, reset FIFOs, etc.\n",
    "\n",
    "\n"
   ]
  },
  {
   "cell_type": "code",
   "execution_count": 48,
   "metadata": {},
   "outputs": [
    {
     "name": "stdout",
     "output_type": "stream",
     "text": [
      "MMIO Debug: Writing 4 bytes to offset 60: 86\n"
     ]
    }
   ],
   "source": [
    "spi_mmio.write(SPI_SPICR_OFFSET, SPICR_ENABLE)"
   ]
  },
  {
   "cell_type": "code",
   "execution_count": 49,
   "metadata": {},
   "outputs": [],
   "source": [
    "# Function to perform SPI read operation\n",
    "def spi_read(address, num_bytes):\n",
    "\n",
    "    # Set the SPI control register (example settings from previous response)\n",
    "    spi_mmio.write(SPI_SPICR_OFFSET, 0x0183)  # Master mode, SPI enabled, manual SS, etc.\n",
    "\n",
    "    # Assert the correct SPI slave (modify based on how your hardware is configured)\n",
    "    spi_mmio.write(SPI_SPISSR_OFFSET, 0xFFFFFFFE)  # Assert the first slave (bit 0 low)\n",
    "\n",
    "    # Write the address to the TX FIFO\n",
    "    spi_mmio.write(SPI_TXD_OFFSET, address)\n",
    " \n",
    "\n",
    "    # Read the data from the RX FIFO\n",
    "    read_data = []\n",
    "    for _ in range(num_bytes):\n",
    "        spi_mmio.write(SPI_TXD_OFFSET, 0x0000) \n",
    "        read_data.append(spi_mmio.read(SPI_RXD_OFFSET))\n",
    "\n",
    "    # Deassert the slave (set all bits high)\n",
    "    spi_mmio.write(SPI_SPISSR_OFFSET, 0xFFFFFFFF)\n",
    "\n",
    "    return read_data\n",
    "\n",
    "\n"
   ]
  },
  {
   "cell_type": "code",
   "execution_count": 50,
   "metadata": {},
   "outputs": [
    {
     "name": "stdout",
     "output_type": "stream",
     "text": [
      "MMIO Debug: Writing 4 bytes to offset 60: 183\n",
      "MMIO Debug: Writing 4 bytes to offset 70: fffffffe\n",
      "MMIO Debug: Writing 4 bytes to offset 68: 0\n",
      "MMIO Debug: Writing 4 bytes to offset 68: 0\n",
      "MMIO Debug: Reading 4 bytes from offset 78\n",
      "MMIO Debug: Writing 4 bytes to offset 68: 0\n",
      "MMIO Debug: Reading 4 bytes from offset 78\n",
      "MMIO Debug: Writing 4 bytes to offset 68: 0\n",
      "MMIO Debug: Reading 4 bytes from offset 78\n",
      "MMIO Debug: Writing 4 bytes to offset 68: 0\n",
      "MMIO Debug: Reading 4 bytes from offset 78\n",
      "MMIO Debug: Writing 4 bytes to offset 68: 0\n",
      "MMIO Debug: Reading 4 bytes from offset 78\n",
      "MMIO Debug: Writing 4 bytes to offset 68: 0\n",
      "MMIO Debug: Reading 4 bytes from offset 78\n",
      "MMIO Debug: Writing 4 bytes to offset 68: 0\n",
      "MMIO Debug: Reading 4 bytes from offset 78\n",
      "MMIO Debug: Writing 4 bytes to offset 68: 0\n",
      "MMIO Debug: Reading 4 bytes from offset 78\n",
      "MMIO Debug: Writing 4 bytes to offset 68: 0\n",
      "MMIO Debug: Reading 4 bytes from offset 78\n",
      "MMIO Debug: Writing 4 bytes to offset 68: 0\n",
      "MMIO Debug: Reading 4 bytes from offset 78\n",
      "MMIO Debug: Writing 4 bytes to offset 68: 0\n",
      "MMIO Debug: Reading 4 bytes from offset 78\n",
      "MMIO Debug: Writing 4 bytes to offset 68: 0\n",
      "MMIO Debug: Reading 4 bytes from offset 78\n",
      "MMIO Debug: Writing 4 bytes to offset 68: 0\n",
      "MMIO Debug: Reading 4 bytes from offset 78\n",
      "MMIO Debug: Writing 4 bytes to offset 68: 0\n",
      "MMIO Debug: Reading 4 bytes from offset 78\n",
      "MMIO Debug: Writing 4 bytes to offset 68: 0\n",
      "MMIO Debug: Reading 4 bytes from offset 78\n",
      "MMIO Debug: Writing 4 bytes to offset 68: 0\n",
      "MMIO Debug: Reading 4 bytes from offset 78\n",
      "MMIO Debug: Writing 4 bytes to offset 68: 0\n",
      "MMIO Debug: Reading 4 bytes from offset 78\n",
      "MMIO Debug: Writing 4 bytes to offset 68: 0\n",
      "MMIO Debug: Reading 4 bytes from offset 78\n",
      "MMIO Debug: Writing 4 bytes to offset 68: 0\n",
      "MMIO Debug: Reading 4 bytes from offset 78\n",
      "MMIO Debug: Writing 4 bytes to offset 68: 0\n",
      "MMIO Debug: Reading 4 bytes from offset 78\n",
      "MMIO Debug: Writing 4 bytes to offset 70: ffffffff\n",
      "Data read from SPI device: [0, 0, 0, 0, 0, 0, 0, 0, 0, 0, 0, 0, 0, 0, 0, 0, 0, 0, 0, 0]\n"
     ]
    }
   ],
   "source": [
    "# Example usage\n",
    "address = 0x00  # Replace with the actual address/command to read from\n",
    "num_bytes = 20   # Number of bytes to read\n",
    "data = spi_read(address, num_bytes)\n",
    "\n",
    "print(\"Data read from SPI device:\", data)"
   ]
  },
  {
   "cell_type": "code",
   "execution_count": 51,
   "metadata": {},
   "outputs": [
    {
     "name": "stdout",
     "output_type": "stream",
     "text": [
      "MMIO Debug: Reading 4 bytes from offset 64\n",
      "SPI Status Register: 0x0\n"
     ]
    }
   ],
   "source": [
    "# Read the SPI Status Register (SPISR)\n",
    "status = spi_mmio.read(SPI_SPISR_OFFSET)\n",
    "print(f\"SPI Status Register: {hex(status)}\")"
   ]
  },
  {
   "cell_type": "code",
   "execution_count": null,
   "metadata": {},
   "outputs": [],
   "source": []
  },
  {
   "cell_type": "code",
   "execution_count": null,
   "metadata": {},
   "outputs": [],
   "source": []
  }
 ],
 "metadata": {
  "kernelspec": {
   "display_name": "Python 3",
   "language": "python",
   "name": "python3"
  },
  "language_info": {
   "codemirror_mode": {
    "name": "ipython",
    "version": 3
   },
   "file_extension": ".py",
   "mimetype": "text/x-python",
   "name": "python",
   "nbconvert_exporter": "python",
   "pygments_lexer": "ipython3",
   "version": "3.6.5"
  }
 },
 "nbformat": 4,
 "nbformat_minor": 2
}
