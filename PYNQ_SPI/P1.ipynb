{
 "cells": [
  {
   "cell_type": "code",
   "execution_count": 8,
   "metadata": {},
   "outputs": [],
   "source": [
    "from pynq import Overlay\n",
    "import pynq.lib as lib\n",
    "ol= Overlay(\"spi.bit\")"
   ]
  },
  {
   "cell_type": "code",
   "execution_count": 9,
   "metadata": {},
   "outputs": [],
   "source": [
    "ol?"
   ]
  },
  {
   "cell_type": "code",
   "execution_count": 10,
   "metadata": {},
   "outputs": [],
   "source": [
    "spi =ol.axi_quad_spi_0"
   ]
  },
  {
   "cell_type": "code",
   "execution_count": 12,
   "metadata": {},
   "outputs": [
    {
     "name": "stdout",
     "output_type": "stream",
     "text": [
      "0\n"
     ]
    }
   ],
   "source": [
    "data_ch0 = spi.read(0)\n",
    "print(data_ch0)"
   ]
  },
  {
   "cell_type": "code",
   "execution_count": 13,
   "metadata": {},
   "outputs": [],
   "source": [
    "# SPI initialization function\n",
    "def init(spi):\n",
    "    spi.write(0x40, 0x0a)       # Configure the SPI\n",
    "    spi.write(0x28, 0x04)\n",
    "    spi.write(0x1c, 0x00)\n",
    "    spi.write(0x70, 0xFFFFFFFF)\n",
    "    \n",
    "    ctrlreg = spi.read(0x60)    # Read control register\n",
    "    ctrlreg = ctrlreg | 0xe6    # Modify control register\n",
    "    spi.write(0x60, ctrlreg)\n",
    "    \n",
    "    ctrlreg = spi.read(0x60)    # Ensure the control register is correctly set\n",
    "    ctrlreg = ctrlreg & ~(0x15)\n",
    "    spi.write(0x60, ctrlreg)\n"
   ]
  },
  {
   "cell_type": "code",
   "execution_count": 14,
   "metadata": {},
   "outputs": [],
   "source": [
    "# SPI transfer function\n",
    "def transfer(packet, spi):\n",
    "    for data in packet:\n",
    "        spi.write(0x68, data)   # Write data to Tx FIFO\n",
    "        spi.write(0x70, 0xFFFFFFFE)   # Start transfer\n",
    "        \n",
    "        ctrlreg = spi.read(0x60)\n",
    "        ctrlreg = ctrlreg & ~(0x100)  # Clear the transfer complete flag\n",
    "        spi.write(0x60, ctrlreg)\n",
    "        \n",
    "        statReg = spi.read(0x64)      # Check status register\n",
    "        while (statReg & 0x04) == 0:  # Wait for transfer to complete\n",
    "            statReg = spi.read(0x64)\n",
    "        \n",
    "        ctrlreg = spi.read(0x60)\n",
    "        ctrlreg = ctrlreg | 0x100     # Set the transfer complete flag\n",
    "        spi.write(0x60, ctrlreg)\n",
    "    \n",
    "    spi.write(0x70, 0xFFFFFFFF)       # Reset the SPI interface\n",
    "    \n",
    "    recvData = list()\n",
    "    RxFifoStatus = spi.read(0x64) & 0x01  # Check if data is in Rx FIFO\n",
    "    while RxFifoStatus == 0:\n",
    "        temp = spi.read(0x6c)         # Read data from Rx FIFO\n",
    "        recvData.append(temp)\n",
    "        RxFifoStatus = spi.read(0x64) & 0x01\n",
    "    return recvData\n",
    "\n",
    "        \n",
    "    "
   ]
  },
  {
   "cell_type": "code",
   "execution_count": 15,
   "metadata": {},
   "outputs": [
    {
     "name": "stdout",
     "output_type": "stream",
     "text": [
      "386\n"
     ]
    }
   ],
   "source": [
    "init(spi)\n",
    "ctrlreg =spi.read(0x60)\n",
    "print(ctrlreg)"
   ]
  },
  {
   "cell_type": "code",
   "execution_count": null,
   "metadata": {},
   "outputs": [],
   "source": [
    "# Main program to collect 100 data points\n",
    "init(spi)\n",
    "packet = [0x00]\n",
    "data = transfer(packet, spi)\n",
    "print(data)\n",
    "    "
   ]
  },
  {
   "cell_type": "code",
   "execution_count": null,
   "metadata": {},
   "outputs": [],
   "source": [
    "# Main program to collect 100 data points\n",
    "init(spi)\n",
    "data_points = []\n",
    "\n",
    "for i in range(100):\n",
    "    packet = [0x00]  # Adjust the packet content as per your SPI device\n",
    "    data = transfer(packet, spi)\n",
    "    data_points.append(data)\n",
    "\n",
    "print(data_points)  # Print the collected data points\n"
   ]
  },
  {
   "cell_type": "code",
   "execution_count": null,
   "metadata": {},
   "outputs": [],
   "source": []
  }
 ],
 "metadata": {
  "kernelspec": {
   "display_name": "Python 3",
   "language": "python",
   "name": "python3"
  },
  "language_info": {
   "codemirror_mode": {
    "name": "ipython",
    "version": 3
   },
   "file_extension": ".py",
   "mimetype": "text/x-python",
   "name": "python",
   "nbconvert_exporter": "python",
   "pygments_lexer": "ipython3",
   "version": "3.6.5"
  }
 },
 "nbformat": 4,
 "nbformat_minor": 2
}
