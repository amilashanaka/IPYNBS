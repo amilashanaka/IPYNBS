{
 "cells": [
  {
   "cell_type": "code",
   "execution_count": 2,
   "metadata": {},
   "outputs": [],
   "source": [
    "from pynq import Overlay\n",
    "from pynq import MMIO\n",
    "import time\n",
    "\n",
    "# Load the overlay (bitstream)\n",
    "ol = Overlay(\"spi.bit\")"
   ]
  },
  {
   "cell_type": "code",
   "execution_count": 3,
   "metadata": {},
   "outputs": [
    {
     "name": "stdout",
     "output_type": "stream",
     "text": [
      "dict_keys(['axi_quad_spi_0'])\n"
     ]
    }
   ],
   "source": [
    "print(ol.ip_dict.keys())"
   ]
  },
  {
   "cell_type": "code",
   "execution_count": 4,
   "metadata": {},
   "outputs": [],
   "source": [
    "axi_quad_spi=ol.axi_quad_spi_0"
   ]
  },
  {
   "cell_type": "code",
   "execution_count": null,
   "metadata": {},
   "outputs": [],
   "source": []
  },
  {
   "cell_type": "code",
   "execution_count": 5,
   "metadata": {},
   "outputs": [
    {
     "name": "stdout",
     "output_type": "stream",
     "text": [
      "1105199104\n"
     ]
    }
   ],
   "source": [
    "# Access the IP dictionary to find the address of the axi_quad_spi_0\n",
    "spi_ip = ol.ip_dict['axi_quad_spi_0']\n",
    "spi_base_address = spi_ip['phys_addr']\n",
    "spi_address_range = spi_ip['addr_range']\n",
    "\n",
    "print(spi_base_address)"
   ]
  },
  {
   "cell_type": "code",
   "execution_count": 6,
   "metadata": {},
   "outputs": [],
   "source": [
    "# Set up MMIO for AXI Quad SPI\n",
    "spi_mmio = MMIO(spi_base_address, spi_address_range)\n",
    "\n",
    "spi_mmio?"
   ]
  },
  {
   "cell_type": "code",
   "execution_count": 7,
   "metadata": {},
   "outputs": [
    {
     "name": "stdout",
     "output_type": "stream",
     "text": [
      "SPI Status Register: 0x24\n",
      "Received data: 0x0\n"
     ]
    }
   ],
   "source": [
    "from pynq import MMIO\n",
    "\n",
    "# Base address for the AXI Quad SPI peripheral\n",
    "spi_base_address = 0x41e00000\n",
    "\n",
    "# Create MMIO object for accessing the SPI registers\n",
    "spi_mmio = MMIO(spi_base_address, 0x1000)  # Adjust the range as needed (0x1000 is usually fine for AXI Lite)\n",
    "\n",
    "# Define the register offsets relative to the base address\n",
    "SPI_SPICR_OFFSET = 0x60  # SPI Control Register\n",
    "SPI_SPISR_OFFSET = 0x64  # SPI Status Register\n",
    "SPI_TXD_OFFSET   = 0x68  # SPI Transmit FIFO\n",
    "SPI_RXD_OFFSET   = 0x6C  # SPI Receive FIFO\n",
    "SPI_SPISSR_OFFSET = 0x70  # SPI Slave Select Register\n",
    "\n",
    "# Example: Function to write a value to a register using relative offset\n",
    "def write_reg(offset, value):\n",
    "    spi_mmio.write(offset, value)\n",
    "\n",
    "# Example: Function to read a value from a register using relative offset\n",
    "def read_reg(offset):\n",
    "    return spi_mmio.read(offset)\n",
    "\n",
    "# Configure SPI Control Register (SPICR) with a value (enable SPI, master mode, etc.)\n",
    "SPICR_ENABLE = 0x00000086  # Enable SPI in master mode, reset FIFOs, etc.\n",
    "write_reg(SPI_SPICR_OFFSET, SPICR_ENABLE)\n",
    "\n",
    "# Write some data to the SPI Transmit FIFO (TXD)\n",
    "write_reg(SPI_TXD_OFFSET, 0x1234)  # Example data to transmit\n",
    "\n",
    "# Read the SPI Status Register (SPISR)\n",
    "status = read_reg(SPI_SPISR_OFFSET)\n",
    "print(f\"SPI Status Register: {hex(status)}\")\n",
    "\n",
    "# Example of reading received data from the SPI Receive FIFO (RXD)\n",
    "received_data = read_reg(SPI_RXD_OFFSET)\n",
    "print(f\"Received data: {hex(received_data)}\")\n"
   ]
  },
  {
   "cell_type": "code",
   "execution_count": null,
   "metadata": {},
   "outputs": [],
   "source": []
  }
 ],
 "metadata": {
  "kernelspec": {
   "display_name": "Python 3",
   "language": "python",
   "name": "python3"
  },
  "language_info": {
   "codemirror_mode": {
    "name": "ipython",
    "version": 3
   },
   "file_extension": ".py",
   "mimetype": "text/x-python",
   "name": "python",
   "nbconvert_exporter": "python",
   "pygments_lexer": "ipython3",
   "version": "3.6.5"
  }
 },
 "nbformat": 4,
 "nbformat_minor": 2
}
