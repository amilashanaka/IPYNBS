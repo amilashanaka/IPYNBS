{
 "cells": [
  {
   "cell_type": "code",
   "execution_count": 1,
   "metadata": {},
   "outputs": [
    {
     "data": {
      "application/javascript": [
       "\n",
       "try {\n",
       "require(['notebook/js/codecell'], function(codecell) {\n",
       "  codecell.CodeCell.options_default.highlight_modes[\n",
       "      'magic_text/x-csrc'] = {'reg':[/^%%microblaze/]};\n",
       "  Jupyter.notebook.events.one('kernel_ready.Kernel', function(){\n",
       "      Jupyter.notebook.get_cells().map(function(cell){\n",
       "          if (cell.cell_type == 'code'){ cell.auto_highlight(); } }) ;\n",
       "  });\n",
       "});\n",
       "} catch (e) {};\n"
      ]
     },
     "metadata": {},
     "output_type": "display_data"
    }
   ],
   "source": [
    "import pynq\n",
    "from pynq import Overlay\n",
    "from pynq import MMIO\n",
    "import time\n",
    "from operator import*\n",
    "import matplotlib.pyplot as plt\n",
    "\n",
    "# Load the SPI overlay\n",
    "ol = Overlay(\"dummy_ip.bit\")"
   ]
  },
  {
   "cell_type": "code",
   "execution_count": 2,
   "metadata": {},
   "outputs": [
    {
     "name": "stdout",
     "output_type": "stream",
     "text": [
      "{'dummy_ip_0': {'fullpath': 'dummy_ip_0', 'type': 'spicer.local:user:dummy_ip:1.0', 'state': None, 'addr_range': 65536, 'phys_addr': 1136656384, 'mem_id': 'S00_AXI', 'gpio': {}, 'interrupts': {}, 'parameters': {'C_S00_AXI_ADDR_WIDTH': '4', 'C_S00_AXI_DATA_WIDTH': '32', 'Component_Name': 'dummy_ip_dummy_ip_0_0', 'EDK_IPTYPE': 'PERIPHERAL', 'C_S00_AXI_BASEADDR': '0x43C00000', 'C_S00_AXI_HIGHADDR': '0x43C0FFFF'}, 'registers': {}, 'device': <pynq.pl_server.device.XlnkDevice object at 0xb02e2710>, 'driver': <class 'pynq.overlay.DefaultIP'>}}\n"
     ]
    }
   ],
   "source": [
    "print(ol.ip_dict)  # To view the IP block details"
   ]
  },
  {
   "cell_type": "code",
   "execution_count": 3,
   "metadata": {},
   "outputs": [
    {
     "name": "stdout",
     "output_type": "stream",
     "text": [
      "1136656384\n"
     ]
    }
   ],
   "source": [
    "# Access the IP dictionary to find the address of the axi_quad_spi_0\n",
    "spi_ip = ol.ip_dict['dummy_ip_0']\n",
    "spi_base_address = (spi_ip['phys_addr'])\n",
    "spi_address_range = (spi_ip['addr_range']) \n",
    "\n",
    "print(spi_base_address) \n",
    "\n"
   ]
  },
  {
   "cell_type": "code",
   "execution_count": 4,
   "metadata": {},
   "outputs": [],
   "source": [
    "\n",
    "#spi_base_address = 0x41E00000\n",
    "#spi_address_range= 0x1000\n",
    "# Set up MMIO for AXI Quad SPI\n",
    "spi_mmio = MMIO(spi_address_range, spi_address_range)\n",
    "spi_mmio.debug = True"
   ]
  },
  {
   "cell_type": "code",
   "execution_count": 14,
   "metadata": {},
   "outputs": [
    {
     "name": "stdout",
     "output_type": "stream",
     "text": [
      "MMIO Debug: Reading 4 bytes from offset 0\n",
      "0\n"
     ]
    }
   ],
   "source": [
    "print(spi_mmio.read(0x00))"
   ]
  },
  {
   "cell_type": "code",
   "execution_count": 12,
   "metadata": {},
   "outputs": [
    {
     "name": "stdout",
     "output_type": "stream",
     "text": [
      "MMIO Debug: Writing 4 bytes to offset c: 5\n",
      "None\n"
     ]
    }
   ],
   "source": [
    "print(spi_mmio.write(0x0c,0x5))"
   ]
  },
  {
   "cell_type": "code",
   "execution_count": null,
   "metadata": {},
   "outputs": [],
   "source": []
  }
 ],
 "metadata": {
  "kernelspec": {
   "display_name": "Python 3",
   "language": "python",
   "name": "python3"
  },
  "language_info": {
   "codemirror_mode": {
    "name": "ipython",
    "version": 3
   },
   "file_extension": ".py",
   "mimetype": "text/x-python",
   "name": "python",
   "nbconvert_exporter": "python",
   "pygments_lexer": "ipython3",
   "version": "3.6.5"
  }
 },
 "nbformat": 4,
 "nbformat_minor": 2
}
