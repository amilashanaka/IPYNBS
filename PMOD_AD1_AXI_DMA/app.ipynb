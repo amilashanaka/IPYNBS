{
 "cells": [
  {
   "cell_type": "code",
   "execution_count": null,
   "metadata": {
    "vscode": {
     "languageId": "plaintext"
    }
   },
   "outputs": [],
   "source": [
    "import pynq\n",
    "import pynq.lib.dma\n",
    "from pynq import Overlay\n",
    "from pynq import DefaultIP\n",
    "from pynq import MMIO\n",
    "from pynq import Xlnk\n",
    "import time\n",
    "from operator import*\n",
    "import matplotlib.pyplot as plt\n",
    "\n",
    "# Load the SPI overlay\n",
    "ol = Overlay(\"pmod_ad1.bit\")"
   ]
  },
  {
   "cell_type": "code",
   "execution_count": null,
   "metadata": {
    "vscode": {
     "languageId": "plaintext"
    }
   },
   "outputs": [],
   "source": [
    "print(ol.ip_dict)"
   ]
  },
  {
   "cell_type": "code",
   "execution_count": null,
   "metadata": {
    "vscode": {
     "languageId": "plaintext"
    }
   },
   "outputs": [],
   "source": [
    "ad1_ip = ol.PmodAD1_0\n",
    "dma    = ol.fir_dma\n"
   ]
  },
  {
   "cell_type": "code",
   "execution_count": null,
   "metadata": {
    "vscode": {
     "languageId": "plaintext"
    }
   },
   "outputs": [],
   "source": [
    "adc_data = read_adc(0)\n",
    "print(f\"ADC Data: {adc_data}\")"
   ]
  },
  {
   "cell_type": "code",
   "execution_count": null,
   "metadata": {
    "vscode": {
     "languageId": "plaintext"
    }
   },
   "outputs": [],
   "source": [
    "def read_pmod_adc():\n",
    "    values_channel_0 = []  # List to store Channel 0 readings\n",
    "\n",
    "    for _ in range(200):  # Take 100 readings\n",
    "        # Read from channel 0\n",
    "        value_channel_0 = read_adc(0)  # Read from Channel 0\n",
    "        value_channel_0_scaled = value_channel_0   # Scale the value for readability\n",
    "\n",
    "        # Append the value to the list\n",
    "        values_channel_0.append(value_channel_0_scaled)\n",
    "\n",
    "        # Print the value from Channel 0\n",
    "        #print(value_channel_0_scaled)\n",
    "        \n",
    "        # Sleep for 0.1 seconds between readings\n",
    "        time.sleep(0.01)\n",
    "\n",
    "    # Plot the collected data\n",
    "    plt.plot(values_channel_0)\n",
    "    plt.title('ADC Channel 0 Data Plot')\n",
    "    plt.xlabel('Reading Index')\n",
    "    plt.ylabel('Value (Scaled)')\n",
    "    plt.grid(True)\n",
    "    plt.show()"
   ]
  },
  {
   "cell_type": "code",
   "execution_count": null,
   "metadata": {
    "vscode": {
     "languageId": "plaintext"
    }
   },
   "outputs": [],
   "source": [
    "read_pmod_adc()"
   ]
  },
  {
   "cell_type": "code",
   "execution_count": null,
   "metadata": {
    "vscode": {
     "languageId": "plaintext"
    }
   },
   "outputs": [],
   "source": [
    "adc_ip = ol.ip_dict['adc_0']\n",
    "gpio_base_address = (adc_ip['phys_addr'])\n",
    "gpio_address_range = (adc_ip['addr_range']) \n",
    "\n",
    "print(hex(gpio_base_address))"
   ]
  },
  {
   "cell_type": "code",
   "execution_count": null,
   "metadata": {
    "vscode": {
     "languageId": "plaintext"
    }
   },
   "outputs": [],
   "source": [
    "xlnk =Xlnk()\n",
    "in_buffer = xlnk.cma_array(shape=(n,),dtype=np.int32)\n",
    "out_buffer = xlnk.cma_array(shape=(n,), dtype =np.int32)"
   ]
  },
  {
   "cell_type": "code",
   "execution_count": null,
   "metadata": {
    "vscode": {
     "languageId": "plaintext"
    }
   },
   "outputs": [],
   "source": [
    "import time\n",
    "start_time = time.time()\n",
    "dma.sendchannel.transfer(in_buffer)\n",
    "dma.recvchannel.transfer(out_buffer)\n",
    "dma.sendchannel.wait()\n",
    "dma.recvchannel.wait()\n",
    "stop_time = time.time()\n",
    "hw_exec_time = stop_time - start_time\n",
    "\n",
    "print(\"Hardware FIR executed time: \",hw_exec_time)\n",
    "print(\"Hardware acceleration factor: \", sw_exec_time/hw_exec_time)\n",
    "\n",
    "plot_to_notebook(t, samples, 1000, out_signal=out_buffer)\n",
    "in_buffer.close()\n",
    "out_buffer.close()"
   ]
  }
 ],
 "metadata": {
  "language_info": {
   "name": "python"
  }
 },
 "nbformat": 4,
 "nbformat_minor": 2
}
