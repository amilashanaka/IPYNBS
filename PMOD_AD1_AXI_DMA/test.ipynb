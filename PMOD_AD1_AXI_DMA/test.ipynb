{
 "cells": [
  {
   "cell_type": "code",
   "execution_count": 2,
   "metadata": {},
   "outputs": [],
   "source": [
    "import pynq\n",
    "import pynq.lib.dma\n",
    "from pynq import Overlay\n",
    "from pynq import DefaultIP\n",
    "from pynq import MMIO\n",
    "from pynq import Xlnk\n",
    "import numpy as np\n",
    "import time\n",
    "from operator import*\n",
    "import matplotlib.pyplot as plt\n",
    "\n",
    "# Load the SPI overlay\n",
    "ol = Overlay(\"ad1_filter.bit\")"
   ]
  },
  {
   "cell_type": "code",
   "execution_count": null,
   "metadata": {},
   "outputs": [],
   "source": [
    "print(ol.ip_dict)"
   ]
  },
  {
   "cell_type": "code",
   "execution_count": 3,
   "metadata": {},
   "outputs": [],
   "source": [
    "import matplotlib.pyplot as plt\n",
    "def plot_to_notebook (time_sec, in_signal, n_samples, out_signal=None):\n",
    "    plt.figure()\n",
    "    plt.subplot(1,1,1)\n",
    "    plt.xlabel('Time (usec)')\n",
    "    plt.grid()\n",
    "    plt.plot(time_sec[:n_samples]*1e6, in_signal[:n_samples], 'y-', label='input signal')\n",
    "    if out_signal is not None:\n",
    "        plt.plot(time_sec[:n_samples]*1e6, out_signal[:n_samples], 'g-', linewidth=2, label='FIR Output')\n",
    "    \n",
    "    plt.legend()"
   ]
  },
  {
   "cell_type": "code",
   "execution_count": 4,
   "metadata": {},
   "outputs": [],
   "source": [
    "ol?"
   ]
  },
  {
   "cell_type": "code",
   "execution_count": 33,
   "metadata": {},
   "outputs": [],
   "source": [
    "ad1_ip = ol.PmodAD1_0\n",
    "dma    = ol.fir_dma"
   ]
  },
  {
   "cell_type": "code",
   "execution_count": 34,
   "metadata": {},
   "outputs": [],
   "source": [
    "# Function to read data from PmodAD1\n",
    "def read_adc(channel):\n",
    "    # Reading raw data from the data register\n",
    "    register_address = 0x00 + (channel * 0x01)  # Ensure channel data is aligned to 4-byte boundary\n",
    "    raw_data = ad1_ip.read(register_address)\n",
    "    \n",
    "    # Extract the 12-bit ADC value (assuming 12-bit data in 32-bit register)\n",
    "    adc_value = raw_data & 0x0FFF  # Mask to get the lower 12 bits\n",
    "    \n",
    "    return adc_value"
   ]
  },
  {
   "cell_type": "code",
   "execution_count": 35,
   "metadata": {},
   "outputs": [
    {
     "name": "stdout",
     "output_type": "stream",
     "text": [
      "ADC Data: 3623\n"
     ]
    }
   ],
   "source": [
    "adc_data = read_adc(0)\n",
    "print(f\"ADC Data: {adc_data}\")"
   ]
  },
  {
   "cell_type": "code",
   "execution_count": null,
   "metadata": {},
   "outputs": [],
   "source": [
    "T = 0.002\n",
    "fs = 100e6\n",
    "n = int(T*fs)\n",
    "t = np.linspace(0, T, n, endpoint=False)\n",
    "samples = 10000*np.sin(0.2e6*2*np. pi*t)+ 1500*np.cos (46e6*2*np.pi*t)\n",
    "samples = samples.astype(np.int32)\n",
    "print('Number of samples:', len(samples))\n",
    "plot_to_notebook (t, samples, 1000)"
   ]
  },
  {
   "cell_type": "code",
   "execution_count": 46,
   "metadata": {},
   "outputs": [],
   "source": [
    "xlnk =Xlnk()\n",
    "in_buffer = xlnk.cma_array(shape=(n,),dtype=np.int32)\n",
    "out_buffer = xlnk.cma_array(shape=(n,), dtype =np.int32)"
   ]
  },
  {
   "cell_type": "code",
   "execution_count": null,
   "metadata": {},
   "outputs": [],
   "source": [
    "dma.recvchannel.transfer(out_buffer)\n",
    "dma.sendchannel.wait()\n",
    "dma.recvchannel.wait()\n",
    "stop_time = time.time()\n",
    "\n",
    "\n",
    "plot_to_notebook(t, samples, 1000, out_signal=out_buffer)\n",
    "in_buffer.close()\n",
    "out_buffer.close()\n"
   ]
  },
  {
   "cell_type": "code",
   "execution_count": null,
   "metadata": {},
   "outputs": [],
   "source": []
  }
 ],
 "metadata": {
  "kernelspec": {
   "display_name": "Python 3",
   "language": "python",
   "name": "python3"
  },
  "language_info": {
   "codemirror_mode": {
    "name": "ipython",
    "version": 3
   },
   "file_extension": ".py",
   "mimetype": "text/x-python",
   "name": "python",
   "nbconvert_exporter": "python",
   "pygments_lexer": "ipython3",
   "version": "3.6.5"
  }
 },
 "nbformat": 4,
 "nbformat_minor": 2
}
