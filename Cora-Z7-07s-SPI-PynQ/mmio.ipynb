{
 "cells": [
  {
   "cell_type": "code",
   "execution_count": 3,
   "metadata": {},
   "outputs": [
    {
     "data": {
      "image/png": "[encoded data removed]",
      "text/plain": [
       "<matplotlib.figure.Figure at 0xae9b27f0>"
      ]
     },
     "metadata": {},
     "output_type": "display_data"
    }
   ],
   "source": [
    "import pynq\n",
    "from pynq import Overlay\n",
    "from pynq import MMIO\n",
    "import time\n",
    "from operator import*\n",
    "import matplotlib.pyplot as plt\n",
    "\n",
    "# Load the SPI overlay\n",
    "ol = Overlay(\"spi.bit\")\n",
    "spi = ol.axi_quad_spi_0\n",
    "\n",
    "# Initialize SPI with correct phase/polarity for the ADC (Pmod AD1)\n",
    "def init(spi, phase=1, polarity=1):\n",
    "    spi.write(0x40, 0x0a)  # Enable SPI\n",
    "    spi.write(0x28, 0x04)  # Configure FIFO reset\n",
    "    spi.write(0x1c, 0x00)  # Disable chip select\n",
    "    spi.write(0x70, 0xFFFFFFFF)  # Clear interrupt flags\n",
    "    ctrlreg = spi.read(0x60)  # Control register read\n",
    "    ctrlreg |= 0xe6  # Enable SPI, master mode, manual slave select\n",
    "    spi.write(0x60, ctrlreg)  # Write control register\n",
    "    ctrlreg = spi.read(0x60)  # Read control again\n",
    "    ctrlreg &= ~(0x18)  # Clear CPHA and CPOL\n",
    "    if phase == 1:\n",
    "        ctrlreg |= 0x10  # Set CPHA if needed\n",
    "    if polarity == 1:\n",
    "        ctrlreg |= 0x08  # Set CPOL if needed\n",
    "    spi.write(0x60, ctrlreg)  # Write back control register\n",
    "\n",
    "# Function to transfer data over SPI\n",
    "def transfer(packet, spi):\n",
    "    recvData = []\n",
    "    for data in packet:\n",
    "        spi.write(0x68, data)  # Write data to TX FIFO\n",
    "        spi.write(0x70, 0xFFFFFFFE)  # Set transaction length\n",
    "        ctrlreg = spi.read(0x60)  # Read control register\n",
    "        ctrlreg &= ~(0x100)  # Clear manual slave select\n",
    "        spi.write(0x60, ctrlreg)  # Update control register\n",
    "        statReg = spi.read(0x64)  # Read status register\n",
    "        while (statReg & 0x04) == 0:  # Wait for transfer to complete\n",
    "            statReg = spi.read(0x64)  # Recheck status\n",
    "        ctrlreg = spi.read(0x60)  # Re-read control register\n",
    "        ctrlreg |= 0x100  # Set manual slave select\n",
    "        spi.write(0x60, ctrlreg)  # Update control register\n",
    "    spi.write(0x70, 0xFFFFFFFF)  # Clear interrupt flags\n",
    "    RxFifoStatus = spi.read(0x64) & 0x01  # Check RX FIFO status\n",
    "    while RxFifoStatus == 0:\n",
    "        temp = spi.read(0x6c)  # Read received data\n",
    "        recvData.append(temp)  # Append to received data list\n",
    "        RxFifoStatus = spi.read(0x64) & 0x01  # Recheck FIFO status\n",
    "    return recvData\n",
    "\n",
    "# Initialize SPI for the ADC\n",
    "init(spi, phase=0, polarity=0)\n",
    "\n",
    "# Collect data from Channel 0\n",
    "values_channel_0 = []\n",
    "for i in range(300):\n",
    "    recvData = transfer([0], spi)  # Send dummy data, receive ADC data\n",
    "    values_channel_0.append(recvData[0])  # Append received value\n",
    "    time.sleep(0.005)  # Short delay\n",
    "\n",
    "# Assuming 12-bit ADC with 3.3V reference voltage\n",
    "V_ref = 3.3\n",
    "resolution = 4096  # 12-bit resolution\n",
    "scaled_values = [value * V_ref / resolution for value in values_channel_0]\n",
    "\n",
    "# Plot the scaled values (in Volts)\n",
    "plt.plot(scaled_values)\n",
    "plt.title('Pmod AD1 Channel 0 Voltage Plot')\n",
    "plt.xlabel('Sample Index')\n",
    "plt.ylabel('Voltage (V)')\n",
    "plt.grid(True)\n",
    "plt.show()\n"
   ]
  },
  {
   "cell_type": "code",
   "execution_count": null,
   "metadata": {},
   "outputs": [],
   "source": []
  }
 ],
 "metadata": {
  "kernelspec": {
   "display_name": "Python 3",
   "language": "python",
   "name": "python3"
  },
  "language_info": {
   "codemirror_mode": {
    "name": "ipython",
    "version": 3
   },
   "file_extension": ".py",
   "mimetype": "text/x-python",
   "name": "python",
   "nbconvert_exporter": "python",
   "pygments_lexer": "ipython3",
   "version": "3.6.5"
  }
 },
 "nbformat": 4,
 "nbformat_minor": 2
}
