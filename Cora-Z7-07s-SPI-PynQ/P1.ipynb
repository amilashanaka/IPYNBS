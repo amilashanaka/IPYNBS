{
 "cells": [
  {
   "cell_type": "code",
   "execution_count": 5,
   "metadata": {},
   "outputs": [
    {
     "name": "stdout",
     "output_type": "stream",
     "text": [
      "['__class__', '__delattr__', '__dict__', '__dir__', '__doc__', '__eq__', '__format__', '__ge__', '__getattribute__', '__gt__', '__hash__', '__init__', '__init_subclass__', '__le__', '__lt__', '__module__', '__ne__', '__new__', '__reduce__', '__reduce_ex__', '__repr__', '__setattr__', '__sizeof__', '__str__', '__subclasshook__', '__weakref__', '_gpio', '_interrupts', '_register_name', '_registers', '_setup_packet_prototype', '_start', 'call', 'device', 'mmio', 'read', 'register_map', 'signature', 'start', 'start_ert', 'start_none', 'start_sw', 'write']\n"
     ]
    }
   ],
   "source": [
    "import pynq\n",
    "from pynq import Overlay\n",
    "from pynq import MMIO\n",
    "import time\n",
    "from operator import*\n",
    "import matplotlib.pyplot as plt\n",
    "\n",
    "# Load the SPI overlay\n",
    "ol = Overlay(\"spi.bit\")\n",
    "\n",
    "\n",
    "spi = ol.axi_quad_spi_0\n",
    "print(dir(spi))"
   ]
  },
  {
   "cell_type": "code",
   "execution_count": 6,
   "metadata": {},
   "outputs": [],
   "source": [
    "def init(spi, phase=0, polarity=0):\n",
    "    spi.write(0x40, 0x0a)\n",
    "    spi.write(0x28, 0x04)\n",
    "    spi.write(0x1c, 0)\n",
    "    spi.write(0x70, 0xFFFFFFFF)\n",
    "    ctrlreg = spi.read(0x60)\n",
    "    ctrlreg = ctrlreg | 0xe6\n",
    "    spi.write(0x60, ctrlreg)\n",
    "    ctrlreg = spi.read(0x60)\n",
    "    ctrlreg = ctrlreg & ~(0x18) \n",
    "    if phase == 1:\n",
    "        ctrlreg = ctrlreg | 0x10\n",
    "    if polarity == 1:\n",
    "        ctrlreg = ctrlreg | 0x08\n",
    "    spi.write(0x60, ctrlreg)"
   ]
  },
  {
   "cell_type": "code",
   "execution_count": 7,
   "metadata": {},
   "outputs": [],
   "source": [
    "def transfer(packet, spi):\n",
    "    for data in packet:\n",
    "        spi.write(0x68, data)\n",
    "        spi.write(0x70, 0xFFFFFFFE)\n",
    "        ctrlreg = spi.read(0x60)\n",
    "        ctrlreg = ctrlreg & ~(0x100)\n",
    "        spi.write(0x60, ctrlreg)\n",
    "        statReg = spi.read(0x64)\n",
    "        while (statReg & 0x04) == 0:\n",
    "            statReg = spi.read(0x64)\n",
    "        ctrlreg = spi.read(0x60)\n",
    "        ctrlreg = ctrlreg | 0x100\n",
    "        spi.write(0x60, ctrlreg)\n",
    "    spi.write(0x70, 0xFFFFFFFF)\n",
    "    recvData = list()\n",
    "    RxFifoStatus = spi.read(0x64) & 0x01\n",
    "    while RxFifoStatus == 0:\n",
    "        temp = spi.read(0x6c) & 0x0FFF \n",
    "        recvData.append(temp)\n",
    "        RxFifoStatus = spi.read(0x64) & 0x01\n",
    "    return recvData"
   ]
  },
  {
   "cell_type": "code",
   "execution_count": null,
   "metadata": {},
   "outputs": [],
   "source": [
    "# Initialize SPI with correct phase/polarity for the ADC\n",
    "init(spi, phase=1, polarity=1)  # Modify based on the ADC requirements\n",
    "\n",
    "values_channel_0 = []  # List to store Channel 0 readings\n",
    "for i in range(200):  # Increase the number of readings\n",
    "    sendData = transfer([128+i, i*i+2], spi)  # Send dummy data\n",
    "    recvData = transfer([0], spi)  # Mask to get the lower 12 bits   Read data (Channel 0)\n",
    "    values_channel_0.append(recvData[0])  # Append the first received value\n",
    "    time.sleep(0.2)  # Shorten delay for faster sampling\n",
    "\n",
    "\n",
    "    \n",
    "\n",
    "# Assuming a 12-bit ADC with 3.3V reference voltage\n",
    "V_ref = 3.3\n",
    "resolution = 4096  # 2^12 for 12-bit ADC\n",
    "\n",
    "scaled_values = [value * V_ref /resolution for value in values_channel_0]\n",
    "\n",
    "# Plot the scaled data\n",
    "plt.plot(values_channel_0)\n",
    "plt.title('ADC Channel 0 Voltage Plot')\n",
    "plt.xlabel('Reading Index')\n",
    "plt.ylabel('Voltage (V)')\n",
    "plt.grid(True)\n",
    "plt.show()\n",
    "\n"
   ]
  },
  {
   "cell_type": "code",
   "execution_count": null,
   "metadata": {},
   "outputs": [],
   "source": []
  }
 ],
 "metadata": {
  "kernelspec": {
   "display_name": "Python 3",
   "language": "python",
   "name": "python3"
  },
  "language_info": {
   "codemirror_mode": {
    "name": "ipython",
    "version": 3
   },
   "file_extension": ".py",
   "mimetype": "text/x-python",
   "name": "python",
   "nbconvert_exporter": "python",
   "pygments_lexer": "ipython3",
   "version": "3.6.5"
  }
 },
 "nbformat": 4,
 "nbformat_minor": 2
}
