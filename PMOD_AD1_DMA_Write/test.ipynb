{
 "cells": [
  {
   "cell_type": "code",
   "execution_count": 6,
   "metadata": {},
   "outputs": [],
   "source": [
    "import pynq\n",
    "from pynq import Overlay\n",
    "from pynq import MMIO\n",
    "import time\n",
    "from operator import*\n",
    "import matplotlib.pyplot as plt\n",
    "\n",
    "# Load the SPI overlay\n",
    "ol = Overlay(\"pmod_ad1.bit\")"
   ]
  },
  {
   "cell_type": "code",
   "execution_count": 7,
   "metadata": {},
   "outputs": [
    {
     "name": "stdout",
     "output_type": "stream",
     "text": [
      "{'PmodAD1_0': {'fullpath': 'PmodAD1_0', 'type': 'digilentinc.com:IP:PmodAD1:1.0', 'state': None, 'addr_range': 65536, 'phys_addr': 1136656384, 'mem_id': 'AXI_LITE_SAMPLE', 'gpio': {}, 'interrupts': {}, 'parameters': {'AD1_CLOCKS_AFTER_DATA': '500', 'AD1_CLOCKS_BEFORE_DATA': '60', 'AD1_CLOCKS_BETWEEN_TRANSACTIONS': '400', 'AD1_CLOCKS_PER_BIT': '20', 'C_S00_AXI_ADDR_WIDTH': '4', 'C_S00_AXI_DATA_WIDTH': '32', 'INCLUDE_DEBUG_INTERFACE': 'false', 'Component_Name': 'pmod_ad1_PmodAD1_0_0', 'PMOD': 'ja', 'USE_BOARD_FLOW': 'true', 'EDK_IPTYPE': 'PERIPHERAL', 'AXI_LITE_SAMPLE_BASEADDR': '0x43C00000', 'AXI_LITE_SAMPLE_HIGHADDR': '0x43C0FFFF'}, 'registers': {}, 'device': <pynq.pl_server.device.XlnkDevice object at 0xb0328710>, 'driver': <class 'pynq.overlay.DefaultIP'>}, 'custom_adc_axi_0/S_AXI': {'fullpath': 'custom_adc_axi_0/S_AXI', 'type': 'xilinx.com:module_ref:custom_adc_axi:1.0', 'state': None, 'addr_range': 536870912, 'phys_addr': 1610612736, 'mem_id': 'S_AXI', 'gpio': {}, 'interrupts': {}, 'parameters': {'C_S_AXI_ADDR_WIDTH': '32', 'C_S_AXI_DATA_WIDTH': '32', 'Component_Name': 'pmod_ad1_custom_adc_axi_0_0', 'EDK_IPTYPE': 'PERIPHERAL', 'C_BASEADDR': '0x60000000', 'C_HIGHADDR': '0x7FFFFFFF'}, 'registers': {}, 'device': <pynq.pl_server.device.XlnkDevice object at 0xb0328710>, 'driver': <class 'pynq.overlay.DefaultIP'>}}\n"
     ]
    }
   ],
   "source": [
    "print(ol.ip_dict)"
   ]
  },
  {
   "cell_type": "code",
   "execution_count": 8,
   "metadata": {},
   "outputs": [],
   "source": [
    "ad1_ip = ol.PmodAD1_0"
   ]
  },
  {
   "cell_type": "code",
   "execution_count": 9,
   "metadata": {},
   "outputs": [],
   "source": [
    "# Function to read data from PmodAD1\n",
    "def read_adc(channel):\n",
    "    # Reading raw data from the data register\n",
    "    register_address = 0x00 + (channel * 0x01)  # Ensure channel data is aligned to 4-byte boundary\n",
    "    raw_data = ad1_ip.read(register_address)\n",
    "    \n",
    "    # Extract the 12-bit ADC value (assuming 12-bit data in 32-bit register)\n",
    "    adc_value = raw_data & 0x0FFF  # Mask to get the lower 12 bits\n",
    "    \n",
    "    return adc_value"
   ]
  },
  {
   "cell_type": "code",
   "execution_count": 10,
   "metadata": {},
   "outputs": [
    {
     "name": "stdout",
     "output_type": "stream",
     "text": [
      "ADC Data: 3131\n"
     ]
    }
   ],
   "source": [
    "\n",
    "adc_data = read_adc(0)\n",
    "print(f\"ADC Data: {adc_data}\")"
   ]
  },
  {
   "cell_type": "code",
   "execution_count": 11,
   "metadata": {},
   "outputs": [
    {
     "name": "stdout",
     "output_type": "stream",
     "text": [
      "1610612736\n"
     ]
    }
   ],
   "source": [
    "spi_ip = ol.ip_dict['custom_adc_axi_0/S_AXI']\n",
    "spi_base_address = (spi_ip['phys_addr'])\n",
    "spi_address_range = (spi_ip['addr_range']) \n",
    "\n",
    "print(spi_base_address)"
   ]
  },
  {
   "cell_type": "code",
   "execution_count": 12,
   "metadata": {},
   "outputs": [],
   "source": [
    "spi_mmio = MMIO(spi_base_address, spi_address_range)\n",
    "spi_mmio.debug = True"
   ]
  },
  {
   "cell_type": "code",
   "execution_count": 13,
   "metadata": {},
   "outputs": [
    {
     "name": "stdout",
     "output_type": "stream",
     "text": [
      "MMIO Debug: Reading 4 bytes from offset 0\n",
      "0\n"
     ]
    }
   ],
   "source": [
    "print(spi_mmio.read(0x00))"
   ]
  },
  {
   "cell_type": "code",
   "execution_count": null,
   "metadata": {},
   "outputs": [],
   "source": []
  }
 ],
 "metadata": {
  "kernelspec": {
   "display_name": "Python 3",
   "language": "python",
   "name": "python3"
  },
  "language_info": {
   "codemirror_mode": {
    "name": "ipython",
    "version": 3
   },
   "file_extension": ".py",
   "mimetype": "text/x-python",
   "name": "python",
   "nbconvert_exporter": "python",
   "pygments_lexer": "ipython3",
   "version": "3.6.5"
  }
 },
 "nbformat": 4,
 "nbformat_minor": 2
}
