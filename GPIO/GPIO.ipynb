{
 "cells": [
  {
   "cell_type": "code",
   "execution_count": 1,
   "metadata": {},
   "outputs": [
    {
     "data": {
      "application/javascript": [
       "\n",
       "try {\n",
       "require(['notebook/js/codecell'], function(codecell) {\n",
       "  codecell.CodeCell.options_default.highlight_modes[\n",
       "      'magic_text/x-csrc'] = {'reg':[/^%%microblaze/]};\n",
       "  Jupyter.notebook.events.one('kernel_ready.Kernel', function(){\n",
       "      Jupyter.notebook.get_cells().map(function(cell){\n",
       "          if (cell.cell_type == 'code'){ cell.auto_highlight(); } }) ;\n",
       "  });\n",
       "});\n",
       "} catch (e) {};\n"
      ]
     },
     "metadata": {},
     "output_type": "display_data"
    }
   ],
   "source": [
    "import pynq\n",
    "from pynq import Overlay\n",
    "from pynq import MMIO\n",
    "import time\n",
    "from operator import*\n",
    "import matplotlib.pyplot as plt\n",
    "\n",
    "# Load the SPI overlay\n",
    "ol = Overlay(\"gpio.bit\")"
   ]
  },
  {
   "cell_type": "code",
   "execution_count": 2,
   "metadata": {},
   "outputs": [
    {
     "name": "stdout",
     "output_type": "stream",
     "text": [
      "{'GPIO_Control_0': {'fullpath': 'GPIO_Control_0', 'type': 'spicer.local:user:GPIO_Control:1.0', 'state': None, 'addr_range': 65536, 'phys_addr': 1136656384, 'mem_id': 'S00_AXI', 'gpio': {}, 'interrupts': {}, 'parameters': {'C_S00_AXI_ADDR_WIDTH': '4', 'C_S00_AXI_DATA_WIDTH': '32', 'LED_WIDTH': '6', 'SWITCH_WIDTH': '2', 'Component_Name': 'design_1_GPIO_Control_0_0', 'EDK_IPTYPE': 'PERIPHERAL', 'C_S00_AXI_BASEADDR': '0x43C00000', 'C_S00_AXI_HIGHADDR': '0x43C0FFFF'}, 'registers': {}, 'device': <pynq.pl_server.device.XlnkDevice object at 0xb0362710>, 'driver': <class 'pynq.overlay.DefaultIP'>}}\n"
     ]
    }
   ],
   "source": [
    "print(ol.ip_dict)"
   ]
  },
  {
   "cell_type": "code",
   "execution_count": 3,
   "metadata": {},
   "outputs": [],
   "source": [
    "gpio=ol.GPIO_Control_0"
   ]
  },
  {
   "cell_type": "code",
   "execution_count": 4,
   "metadata": {},
   "outputs": [
    {
     "name": "stdout",
     "output_type": "stream",
     "text": [
      "0x43c00000\n"
     ]
    }
   ],
   "source": [
    "gpio_ip = ol.ip_dict['GPIO_Control_0']\n",
    "gpio_base_address = (gpio_ip['phys_addr'])\n",
    "gpio_address_range = (gpio_ip['addr_range']) \n",
    "\n",
    "print(hex(gpio_base_address))"
   ]
  },
  {
   "cell_type": "code",
   "execution_count": 5,
   "metadata": {},
   "outputs": [],
   "source": [
    "gpio_mmio = MMIO(gpio_base_address, gpio_address_range)\n",
    "gpio_mmio.debug = True"
   ]
  },
  {
   "cell_type": "code",
   "execution_count": 6,
   "metadata": {},
   "outputs": [
    {
     "name": "stdout",
     "output_type": "stream",
     "text": [
      "MMIO Debug: Reading 4 bytes from offset 8\n",
      "0\n"
     ]
    }
   ],
   "source": [
    "print(gpio_mmio.read(0x08))"
   ]
  },
  {
   "cell_type": "code",
   "execution_count": 8,
   "metadata": {},
   "outputs": [
    {
     "name": "stdout",
     "output_type": "stream",
     "text": [
      "MMIO Debug: Reading 4 bytes from offset 4\n",
      "2\n"
     ]
    }
   ],
   "source": [
    "print(gpio_mmio.read(0x04))"
   ]
  }
 ],
 "metadata": {
  "kernelspec": {
   "display_name": "Python 3",
   "language": "python",
   "name": "python3"
  },
  "language_info": {
   "codemirror_mode": {
    "name": "ipython",
    "version": 3
   },
   "file_extension": ".py",
   "mimetype": "text/x-python",
   "name": "python",
   "nbconvert_exporter": "python",
   "pygments_lexer": "ipython3",
   "version": "3.6.5"
  }
 },
 "nbformat": 4,
 "nbformat_minor": 2
}
