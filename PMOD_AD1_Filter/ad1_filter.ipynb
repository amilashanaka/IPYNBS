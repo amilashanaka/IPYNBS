{
 "cells": [
  {
   "cell_type": "code",
   "execution_count": 1,
   "metadata": {},
   "outputs": [
    {
     "data": {
      "application/javascript": [
       "\n",
       "try {\n",
       "require(['notebook/js/codecell'], function(codecell) {\n",
       "  codecell.CodeCell.options_default.highlight_modes[\n",
       "      'magic_text/x-csrc'] = {'reg':[/^%%microblaze/]};\n",
       "  Jupyter.notebook.events.one('kernel_ready.Kernel', function(){\n",
       "      Jupyter.notebook.get_cells().map(function(cell){\n",
       "          if (cell.cell_type == 'code'){ cell.auto_highlight(); } }) ;\n",
       "  });\n",
       "});\n",
       "} catch (e) {};\n"
      ]
     },
     "metadata": {},
     "output_type": "display_data"
    }
   ],
   "source": [
    "import pynq\n",
    "from pynq import Overlay\n",
    "from pynq import DefaultIP\n",
    "from pynq import MMIO\n",
    "import time\n",
    "from operator import*\n",
    "import matplotlib.pyplot as plt\n",
    "\n",
    "# Load the SPI overlay\n",
    "ol = Overlay(\"ad1_filter.bit\")"
   ]
  },
  {
   "cell_type": "code",
   "execution_count": 2,
   "metadata": {},
   "outputs": [],
   "source": [
    "ol?"
   ]
  },
  {
   "cell_type": "code",
   "execution_count": 3,
   "metadata": {},
   "outputs": [],
   "source": [
    "pmod = ol.PmodAD1_0"
   ]
  },
  {
   "cell_type": "code",
   "execution_count": 4,
   "metadata": {},
   "outputs": [
    {
     "name": "stdout",
     "output_type": "stream",
     "text": [
      "Help on DefaultIP in module pynq.overlay object:\n",
      "\n",
      "class DefaultIP(builtins.object)\n",
      " |  Driver for an IP without a more specific driver\n",
      " |  \n",
      " |  This driver wraps an MMIO device and provides a base class\n",
      " |  for more specific drivers written later. It also provides\n",
      " |  access to GPIO outputs and interrupts inputs via attributes. More specific\n",
      " |  drivers should inherit from `DefaultIP` and include a\n",
      " |  `bindto` entry containing all of the IP that the driver\n",
      " |  should bind to. Subclasses meeting these requirements will\n",
      " |  automatically be registered.\n",
      " |  \n",
      " |  Attributes\n",
      " |  ----------\n",
      " |  mmio : pynq.MMIO\n",
      " |      Underlying MMIO driver for the device\n",
      " |  _interrupts : dict\n",
      " |      Subset of the PL.interrupt_pins related to this IP\n",
      " |  _gpio : dict\n",
      " |      Subset of the PL.gpio_dict related to this IP\n",
      " |  \n",
      " |  Methods defined here:\n",
      " |  \n",
      " |  __init__(self, description)\n",
      " |      Initialize self.  See help(type(self)) for accurate signature.\n",
      " |  \n",
      " |  call(self, *args, **kwargs)\n",
      " |  \n",
      " |  read(self, offset=0)\n",
      " |      Read from the MMIO device\n",
      " |      \n",
      " |      Parameters\n",
      " |      ----------\n",
      " |      offset : int\n",
      " |          Address to read\n",
      " |  \n",
      " |  start(self, *args, **kwargs)\n",
      " |      Start the accelerator\n",
      " |      \n",
      " |      This function will configure the accelerator with the provided\n",
      " |      arguments and start the accelerator. Use the `wait` function to\n",
      " |      determine when execution has finished. Note that buffers should be\n",
      " |      flushed prior to starting the accelerator and any result buffers\n",
      " |      will need to be invalidated afterwards.\n",
      " |      \n",
      " |      For details on the function's signature use the `signature` property.\n",
      " |      The type annotations provide the C types that the accelerator\n",
      " |      operates on. Any pointer types should be passed as `ContiguousArray`\n",
      " |      objects created from the `pynq.Xlnk` class. Scalars should be passed\n",
      " |      as a compatible python type as used by the `struct` library.\n",
      " |  \n",
      " |  start_ert(self, *args, waitfor=(), **kwargs)\n",
      " |      Start the accelerator using the ERT scheduler\n",
      " |      \n",
      " |      This function will use the embedded scheduler to call the accelerator\n",
      " |      with the provided arguments - see the documentation for ``start`` for\n",
      " |      more details. An optional ``waitfor`` parameter can be used to\n",
      " |      schedule dependent executions without using the CPU.\n",
      " |      \n",
      " |      Parameters\n",
      " |      ----------\n",
      " |      waitfor : [WaitHandle]\n",
      " |          A list of wait handles returned by other calls to ``start_ert``\n",
      " |          which must complete before this execution starts\n",
      " |      \n",
      " |      Returns\n",
      " |      -------\n",
      " |      WaitHandle :\n",
      " |          Object with a ``wait`` call that will return when the execution\n",
      " |          completes\n",
      " |  \n",
      " |  start_none(self, *args, **kwargs)\n",
      " |  \n",
      " |  start_sw(self, *args, ap_ctrl=1, waitfor=None, **kwargs)\n",
      " |      Start the accelerator\n",
      " |      \n",
      " |      This function will configure the accelerator with the provided\n",
      " |      arguments and start the accelerator. Use the `wait` function to\n",
      " |      determine when execution has finished. Note that buffers should be\n",
      " |      flushed prior to starting the accelerator and any result buffers\n",
      " |      will need to be invalidated afterwards.\n",
      " |      \n",
      " |      For details on the function's signature use the `signature` property.\n",
      " |      The type annotations provide the C types that the accelerator\n",
      " |      operates on. Any pointer types should be passed as `ContiguousArray`\n",
      " |      objects created from the `pynq.Xlnk` class. Scalars should be passed\n",
      " |      as a compatible python type as used by the `struct` library.\n",
      " |  \n",
      " |  write(self, offset, value)\n",
      " |      Write to the MMIO device\n",
      " |      \n",
      " |      Parameters\n",
      " |      ----------\n",
      " |      offset : int\n",
      " |          Address to write to\n",
      " |      value : int or bytes\n",
      " |          Data to write\n",
      " |  \n",
      " |  ----------------------------------------------------------------------\n",
      " |  Data descriptors defined here:\n",
      " |  \n",
      " |  __dict__\n",
      " |      dictionary for instance variables (if defined)\n",
      " |  \n",
      " |  __weakref__\n",
      " |      list of weak references to the object (if defined)\n",
      " |  \n",
      " |  register_map\n",
      " |  \n",
      " |  signature\n",
      " |      The signature of the `call` method\n",
      "\n"
     ]
    }
   ],
   "source": [
    "help(pmod)"
   ]
  },
  {
   "cell_type": "code",
   "execution_count": null,
   "metadata": {},
   "outputs": [],
   "source": [
    " "
   ]
  }
 ],
 "metadata": {
  "kernelspec": {
   "display_name": "Python 3",
   "language": "python",
   "name": "python3"
  },
  "language_info": {
   "codemirror_mode": {
    "name": "ipython",
    "version": 3
   },
   "file_extension": ".py",
   "mimetype": "text/x-python",
   "name": "python",
   "nbconvert_exporter": "python",
   "pygments_lexer": "ipython3",
   "version": "3.6.5"
  }
 },
 "nbformat": 4,
 "nbformat_minor": 2
}
