{
 "cells": [
  {
   "cell_type": "code",
   "execution_count": 1,
   "metadata": {},
   "outputs": [
    {
     "data": {
      "application/javascript": [
       "\n",
       "try {\n",
       "require(['notebook/js/codecell'], function(codecell) {\n",
       "  codecell.CodeCell.options_default.highlight_modes[\n",
       "      'magic_text/x-csrc'] = {'reg':[/^%%microblaze/]};\n",
       "  Jupyter.notebook.events.one('kernel_ready.Kernel', function(){\n",
       "      Jupyter.notebook.get_cells().map(function(cell){\n",
       "          if (cell.cell_type == 'code'){ cell.auto_highlight(); } }) ;\n",
       "  });\n",
       "});\n",
       "} catch (e) {};\n"
      ]
     },
     "metadata": {},
     "output_type": "display_data"
    }
   ],
   "source": [
    "from pynq import Overlay\n",
    "from pynq import allocate\n",
    "import numpy as np\n",
    "import matplotlib.pyplot as plt\n",
    "from IPython.display import clear_output\n",
    "import time\n",
    "\n",
    "# Load the bitstream\n",
    "ol = Overlay(\"dma.bit\")\n",
    "\n",
    "# Define constants\n",
    "data_size = 1024  # Number of samples per transfer\n",
    "dma = ol.axi_dma  # DMA interface\n",
    "\n",
    "# Create buffers for DMA transfer\n",
    "output_buffer = allocate(shape=(data_size,), dtype=np.uint32)\n",
    "\n",
    "# Function to process and display ADC data\n",
    "def display_adc_data():\n",
    "    try:\n",
    "        # Initialize the plot\n",
    "        plt.figure(figsize=(10, 6))\n",
    "        \n",
    "        while True:\n",
    "            # Start a DMA transfer\n",
    "            dma.recvchannel.transfer(output_buffer)\n",
    "            dma.recvchannel.wait()\n",
    "            \n",
    "            # Process data: Keep only the lower 12 bits\n",
    "            processed_data = output_buffer & 0x0FFF\n",
    "\n",
    "            # Clear the previous plot\n",
    "            clear_output(wait=True)\n",
    "            \n",
    "            # Plot the data\n",
    "            plt.clf()\n",
    "            plt.plot(processed_data, label=\"ADC Data\")\n",
    "            plt.title(\"ADC Channel 1 - Real-Time\")\n",
    "            plt.xlabel(\"Sample Index\")\n",
    "            plt.ylabel(\"Value\")\n",
    "            plt.grid(True)\n",
    "            plt.legend()\n",
    "            plt.pause(0.01)  # Pause to update the plot\n",
    "\n",
    "    except KeyboardInterrupt:\n",
    "        print(\"Streaming stopped.\")\n",
    "        plt.close()\n",
    "\n"
   ]
  },
  {
   "cell_type": "code",
   "execution_count": 2,
   "metadata": {},
   "outputs": [
    {
     "name": "stdout",
     "output_type": "stream",
     "text": [
      "Streaming stopped.\n"
     ]
    }
   ],
   "source": [
    "# Run the function to start streaming\n",
    "display_adc_data()\n"
   ]
  },
  {
   "cell_type": "code",
   "execution_count": null,
   "metadata": {},
   "outputs": [],
   "source": []
  }
 ],
 "metadata": {
  "kernelspec": {
   "display_name": "Python 3",
   "language": "python",
   "name": "python3"
  },
  "language_info": {
   "codemirror_mode": {
    "name": "ipython",
    "version": 3
   },
   "file_extension": ".py",
   "mimetype": "text/x-python",
   "name": "python",
   "nbconvert_exporter": "python",
   "pygments_lexer": "ipython3",
   "version": "3.6.5"
  }
 },
 "nbformat": 4,
 "nbformat_minor": 2
}
