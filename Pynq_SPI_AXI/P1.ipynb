{
 "cells": [
  {
   "cell_type": "code",
   "execution_count": 1,
   "metadata": {},
   "outputs": [
    {
     "data": {
      "application/javascript": [
       "\n",
       "try {\n",
       "require(['notebook/js/codecell'], function(codecell) {\n",
       "  codecell.CodeCell.options_default.highlight_modes[\n",
       "      'magic_text/x-csrc'] = {'reg':[/^%%microblaze/]};\n",
       "  Jupyter.notebook.events.one('kernel_ready.Kernel', function(){\n",
       "      Jupyter.notebook.get_cells().map(function(cell){\n",
       "          if (cell.cell_type == 'code'){ cell.auto_highlight(); } }) ;\n",
       "  });\n",
       "});\n",
       "} catch (e) {};\n"
      ]
     },
     "metadata": {},
     "output_type": "display_data"
    }
   ],
   "source": [
    "import pynq\n",
    "from pynq import Overlay\n",
    "from pynq import MMIO\n",
    "import time\n",
    "from operator import*\n",
    "import matplotlib.pyplot as plt\n",
    "\n",
    "# Load the SPI overlay\n",
    "ol = Overlay(\"axispi.bit\")"
   ]
  },
  {
   "cell_type": "code",
   "execution_count": 2,
   "metadata": {},
   "outputs": [
    {
     "name": "stdout",
     "output_type": "stream",
     "text": [
      "{'spi_axi_lite_0/S_AXI': {'fullpath': 'spi_axi_lite_0/S_AXI', 'type': 'xilinx.com:module_ref:spi_axi_lite:1.0', 'state': None, 'addr_range': 1073741824, 'phys_addr': 1073741824, 'mem_id': 'S_AXI', 'gpio': {}, 'interrupts': {}, 'parameters': {'BITS_PER_TRANSACTION': '16', 'CLOCKS_PER_BIT': '20', 'Component_Name': 'axispi_spi_axi_lite_0_0', 'EDK_IPTYPE': 'PERIPHERAL', 'C_BASEADDR': '0x40000000', 'C_HIGHADDR': '0x7FFFFFFF'}, 'registers': {}, 'device': <pynq.pl_server.device.XlnkDevice object at 0xb0368710>, 'driver': <class 'pynq.overlay.DefaultIP'>}}\n"
     ]
    }
   ],
   "source": [
    "print(ol.ip_dict)  # To view the IP block details\n",
    " # To view available attributes for the IP block"
   ]
  },
  {
   "cell_type": "code",
   "execution_count": 3,
   "metadata": {},
   "outputs": [
    {
     "ename": "NameError",
     "evalue": "name 'spi_axi_ip' is not defined",
     "output_type": "error",
     "traceback": [
      "\u001b[0;31m---------------------------------------------------------------------------\u001b[0m",
      "\u001b[0;31mNameError\u001b[0m                                 Traceback (most recent call last)",
      "\u001b[0;32m<ipython-input-3-7c730b0467fe>\u001b[0m in \u001b[0;36m<module>\u001b[0;34m()\u001b[0m\n\u001b[0;32m----> 1\u001b[0;31m \u001b[0mprint\u001b[0m\u001b[0;34m(\u001b[0m\u001b[0mdir\u001b[0m\u001b[0;34m(\u001b[0m\u001b[0mspi_axi_ip\u001b[0m\u001b[0;34m)\u001b[0m\u001b[0;34m)\u001b[0m\u001b[0;34m\u001b[0m\u001b[0m\n\u001b[0m",
      "\u001b[0;31mNameError\u001b[0m: name 'spi_axi_ip' is not defined"
     ]
    }
   ],
   "source": [
    "print(dir(spi_axi_ip)) "
   ]
  },
  {
   "cell_type": "code",
   "execution_count": 4,
   "metadata": {},
   "outputs": [],
   "source": [
    "# Create an MMIO object manually using the base address and address range\n",
    "spi_axi_base_address = 0x40000000\n",
    "spi_axi_addr_range = 0x7FFFFFFF - 0x40000000 + 1  # Calculate address range\n",
    "spi_axi_mmio = MMIO(spi_axi_base_address, spi_axi_addr_range)"
   ]
  },
  {
   "cell_type": "code",
   "execution_count": 5,
   "metadata": {},
   "outputs": [],
   "source": [
    "# AXI4-Lite Register Access\n",
    "class SPI_AXI_Lite:\n",
    "    def __init__(self, mmio):\n",
    "        \"\"\" Initialize with the MMIO object of the SPI IP block. \"\"\"\n",
    "        self.mmio = mmio\n",
    "        # Assuming base address of the control and status registers\n",
    "        self.ctrl_reg_offset = 0x00  # Control register offset\n",
    "        self.status_reg_offset = 0x04  # Status register offset\n",
    "\n",
    "    def write_ctrl_register(self, value):\n",
    "        \"\"\" Write to the control register using MMIO. \"\"\"\n",
    "        self.mmio.write(self.ctrl_reg_offset, value)\n",
    "\n",
    "    def read_status_register(self):\n",
    "        \"\"\" Read from the status register using MMIO. \"\"\"\n",
    "        return self.mmio.read(self.status_reg_offset)\n",
    "\n",
    "    def spi_transaction(self, data_out):\n",
    "        \"\"\"\n",
    "        Perform an SPI transaction by writing data to the control register\n",
    "        and reading the response from the status register.\n",
    "        \"\"\"\n",
    "        # Write the data to be transmitted via SPI (Control register)\n",
    "        self.write_ctrl_register(data_out)\n",
    "\n",
    "        # Small delay to allow SPI transaction to complete\n",
    "        time.sleep(0.01)\n",
    "\n",
    "        # Read the data received from SPI (Status register)\n",
    "        data_in = self.read_status_register()\n",
    "\n",
    "        return data_in\n"
   ]
  },
  {
   "cell_type": "code",
   "execution_count": null,
   "metadata": {},
   "outputs": [],
   "source": [
    "# Instantiate the SPI class with the MMIO object\n",
    "spi = SPI_AXI_Lite(spi_axi_mmio)\n",
    "\n",
    "# Perform an SPI transaction\n",
    "data_out = 0x1234  # Example data to send via SPI\n",
    "print(f\"Sending SPI data: 0x{data_out:X}\")\n",
    "data_in = spi.spi_transaction(data_out)\n",
    "print(f\"Received SPI data: 0x{data_in:X}\")"
   ]
  }
 ],
 "metadata": {
  "kernelspec": {
   "display_name": "Python 3",
   "language": "python",
   "name": "python3"
  },
  "language_info": {
   "codemirror_mode": {
    "name": "ipython",
    "version": 3
   },
   "file_extension": ".py",
   "mimetype": "text/x-python",
   "name": "python",
   "nbconvert_exporter": "python",
   "pygments_lexer": "ipython3",
   "version": "3.6.5"
  }
 },
 "nbformat": 4,
 "nbformat_minor": 2
}
