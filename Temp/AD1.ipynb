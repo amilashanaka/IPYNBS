{
 "cells": [
  {
   "cell_type": "code",
   "execution_count": 1,
   "metadata": {},
   "outputs": [
    {
     "data": {
      "application/javascript": [
       "\n",
       "try {\n",
       "require(['notebook/js/codecell'], function(codecell) {\n",
       "  codecell.CodeCell.options_default.highlight_modes[\n",
       "      'magic_text/x-csrc'] = {'reg':[/^%%microblaze/]};\n",
       "  Jupyter.notebook.events.one('kernel_ready.Kernel', function(){\n",
       "      Jupyter.notebook.get_cells().map(function(cell){\n",
       "          if (cell.cell_type == 'code'){ cell.auto_highlight(); } }) ;\n",
       "  });\n",
       "});\n",
       "} catch (e) {};\n"
      ]
     },
     "metadata": {},
     "output_type": "display_data"
    }
   ],
   "source": [
    "import pynq\n",
    "from pynq import Overlay\n",
    "from pynq import MMIO\n",
    "import time\n",
    "import numpy as np\n",
    "import pynq.lib.dma\n",
    "import matplotlib.pyplot as plt\n",
    "\n",
    "# Load the SPI overlay\n",
    "ol = Overlay(\"ad1.bit\")"
   ]
  },
  {
   "cell_type": "code",
   "execution_count": 2,
   "metadata": {},
   "outputs": [],
   "source": [
    "ol?"
   ]
  },
  {
   "cell_type": "code",
   "execution_count": 3,
   "metadata": {},
   "outputs": [
    {
     "name": "stdout",
     "output_type": "stream",
     "text": [
      "{'PmodAD1_0': {'fullpath': 'PmodAD1_0', 'type': 'digilentinc.com:IP:PmodAD1:1.0', 'state': None, 'addr_range': 65536, 'phys_addr': 1136656384, 'mem_id': 'AXI_LITE_SAMPLE', 'gpio': {}, 'interrupts': {}, 'parameters': {'AD1_CLOCKS_AFTER_DATA': '500', 'AD1_CLOCKS_BEFORE_DATA': '60', 'AD1_CLOCKS_BETWEEN_TRANSACTIONS': '400', 'AD1_CLOCKS_PER_BIT': '20', 'C_S00_AXI_ADDR_WIDTH': '4', 'C_S00_AXI_DATA_WIDTH': '32', 'INCLUDE_DEBUG_INTERFACE': 'false', 'Component_Name': 'ad1_PmodAD1_0_2', 'PMOD': 'ja', 'USE_BOARD_FLOW': 'true', 'EDK_IPTYPE': 'PERIPHERAL', 'AXI_LITE_SAMPLE_BASEADDR': '0x43C00000', 'AXI_LITE_SAMPLE_HIGHADDR': '0x43C0FFFF'}, 'registers': {}, 'device': <pynq.pl_server.device.XlnkDevice object at 0xb03a27d0>, 'driver': <class 'pynq.overlay.DefaultIP'>}}\n"
     ]
    }
   ],
   "source": [
    "print(ol.ip_dict)  # To view the IP block details"
   ]
  },
  {
   "cell_type": "code",
   "execution_count": 4,
   "metadata": {},
   "outputs": [],
   "source": [
    "ad1_ip = ol.PmodAD1_0"
   ]
  },
  {
   "cell_type": "code",
   "execution_count": 5,
   "metadata": {},
   "outputs": [
    {
     "data": {
      "text/plain": [
       "<pynq.pl_server.device.XlnkDevice at 0xb03a27d0>"
      ]
     },
     "execution_count": 5,
     "metadata": {},
     "output_type": "execute_result"
    }
   ],
   "source": [
    "ad1_ip.device"
   ]
  },
  {
   "cell_type": "code",
   "execution_count": 6,
   "metadata": {},
   "outputs": [
    {
     "name": "stdout",
     "output_type": "stream",
     "text": [
      "1136656384\n"
     ]
    }
   ],
   "source": [
    "# Access the IP dictionary to find the address of the axi_quad_spi_0\n",
    "spi_ip = ol.ip_dict['PmodAD1_0']\n",
    "spi_base_address = (spi_ip['phys_addr'])\n",
    "spi_address_range = (spi_ip['addr_range']) \n",
    "\n",
    "print(spi_base_address) \n",
    "\n",
    "\n",
    "#spi_base_address = 0x41E00000\n",
    "#spi_address_range= 0x1000\n",
    "# Set up MMIO for AXI Quad SPI\n",
    "spi_mmio = MMIO(spi_address_range, spi_address_range)\n",
    "spi_mmio.debug = True"
   ]
  },
  {
   "cell_type": "code",
   "execution_count": 8,
   "metadata": {},
   "outputs": [
    {
     "name": "stdout",
     "output_type": "stream",
     "text": [
      "MMIO Debug: Reading 4 bytes from offset 0\n",
      "0\n"
     ]
    }
   ],
   "source": [
    "print(spi_mmio.read(0x00))"
   ]
  },
  {
   "cell_type": "code",
   "execution_count": null,
   "metadata": {},
   "outputs": [],
   "source": []
  }
 ],
 "metadata": {
  "kernelspec": {
   "display_name": "Python 3",
   "language": "python",
   "name": "python3"
  },
  "language_info": {
   "codemirror_mode": {
    "name": "ipython",
    "version": 3
   },
   "file_extension": ".py",
   "mimetype": "text/x-python",
   "name": "python",
   "nbconvert_exporter": "python",
   "pygments_lexer": "ipython3",
   "version": "3.6.5"
  }
 },
 "nbformat": 4,
 "nbformat_minor": 2
}
