{
 "cells": [
  {
   "cell_type": "code",
   "execution_count": 7,
   "metadata": {
    "vscode": {
     "languageId": "plaintext"
    }
   },
   "outputs": [],
   "source": [
    "from pynq import Overlay, allocate\n",
    "from pynq.lib.dma import DMA\n",
    "import numpy as np\n",
    "import time\n",
    "from pynq import MMIO\n",
    "\n",
    "\n",
    "# Load the overlay (bitstream)\n",
    "ol = Overlay(\"random.bit\")"
   ]
  },
  {
   "cell_type": "code",
   "execution_count": 8,
   "metadata": {
    "vscode": {
     "languageId": "plaintext"
    }
   },
   "outputs": [],
   "source": [
    "ol?"
   ]
  },
  {
   "cell_type": "code",
   "execution_count": 9,
   "metadata": {
    "vscode": {
     "languageId": "plaintext"
    }
   },
   "outputs": [
    {
     "name": "stdout",
     "output_type": "stream",
     "text": [
      "{'axi_dma_0': {'fullpath': 'axi_dma_0', 'type': 'xilinx.com:ip:axi_dma:7.1', 'state': None, 'addr_range': 65536, 'phys_addr': 1077936128, 'mem_id': 'S_AXI_LITE', 'gpio': {}, 'interrupts': {'mm2s_introut': {'controller': '', 'index': 0, 'fullpath': 'axi_dma_0/mm2s_introut'}, 's2mm_introut': {'controller': '', 'index': 1, 'fullpath': 'axi_dma_0/s2mm_introut'}}, 'parameters': {'C_DLYTMR_RESOLUTION': '125', 'C_ENABLE_MULTI_CHANNEL': '0', 'C_FAMILY': 'zynq', 'C_INCLUDE_MM2S': '1', 'C_INCLUDE_MM2S_DRE': '0', 'C_INCLUDE_MM2S_SF': '1', 'C_INCLUDE_S2MM': '1', 'C_INCLUDE_S2MM_DRE': '0', 'C_INCLUDE_S2MM_SF': '1', 'C_INCLUDE_SG': '0', 'C_INCREASE_THROUGHPUT': '0', 'C_MICRO_DMA': '0', 'C_MM2S_BURST_SIZE': '16', 'C_M_AXIS_MM2S_CNTRL_TDATA_WIDTH': '32', 'C_M_AXIS_MM2S_TDATA_WIDTH': '32', 'C_M_AXI_MM2S_ADDR_WIDTH': '32', 'C_M_AXI_MM2S_DATA_WIDTH': '32', 'C_M_AXI_S2MM_ADDR_WIDTH': '32', 'C_M_AXI_S2MM_DATA_WIDTH': '32', 'C_M_AXI_SG_ADDR_WIDTH': '32', 'C_M_AXI_SG_DATA_WIDTH': '32', 'C_NUM_MM2S_CHANNELS': '1', 'C_NUM_S2MM_CHANNELS': '1', 'C_PRMRY_IS_ACLK_ASYNC': '0', 'C_S2MM_BURST_SIZE': '16', 'C_SG_INCLUDE_STSCNTRL_STRM': '0', 'C_SG_LENGTH_WIDTH': '14', 'C_SG_USE_STSAPP_LENGTH': '0', 'C_S_AXIS_S2MM_STS_TDATA_WIDTH': '32', 'C_S_AXIS_S2MM_TDATA_WIDTH': '32', 'C_S_AXI_LITE_ADDR_WIDTH': '10', 'C_S_AXI_LITE_DATA_WIDTH': '32', 'Component_Name': 'random_axi_dma_0_0', 'c_addr_width': '32', 'c_dlytmr_resolution': '125', 'c_enable_multi_channel': '0', 'c_include_mm2s': '1', 'c_include_mm2s_dre': '0', 'c_include_mm2s_sf': '1', 'c_include_s2mm': '1', 'c_include_s2mm_dre': '0', 'c_include_s2mm_sf': '1', 'c_include_sg': '0', 'c_increase_throughput': '0', 'c_m_axi_mm2s_data_width': '32', 'c_m_axi_s2mm_data_width': '32', 'c_m_axis_mm2s_tdata_width': '32', 'c_micro_dma': '0', 'c_mm2s_burst_size': '16', 'c_num_mm2s_channels': '1', 'c_num_s2mm_channels': '1', 'c_prmry_is_aclk_async': '0', 'c_s2mm_burst_size': '16', 'c_s_axis_s2mm_tdata_width': '32', 'c_sg_include_stscntrl_strm': '0', 'c_sg_length_width': '14', 'c_sg_use_stsapp_length': '0', 'c_single_interface': '0', 'EDK_IPTYPE': 'PERIPHERAL', 'C_BASEADDR': '0x40400000', 'C_HIGHADDR': '0x4040FFFF'}, 'registers': {'MM2S_DMACR': {'address_offset': 0, 'size': 32, 'access': 'read-write', 'description': 'MM2S DMA Control Register', 'fields': {'RS': {'bit_offset': 0, 'bit_width': 1, 'description': 'MM2S DMA Control Register', 'access': 'read-write'}, 'Reset': {'bit_offset': 2, 'bit_width': 1, 'description': 'MM2S DMA Control Register', 'access': 'read-write'}, 'Keyhole': {'bit_offset': 3, 'bit_width': 1, 'description': 'MM2S DMA Control Register', 'access': 'read-write'}, 'Cyclic_BD_Enable': {'bit_offset': 4, 'bit_width': 1, 'description': 'MM2S DMA Control Register', 'access': 'read-write'}, 'IOC_IrqEn': {'bit_offset': 12, 'bit_width': 1, 'description': 'MM2S DMA Control Register', 'access': 'read-write'}, 'Dly_IrqEn': {'bit_offset': 13, 'bit_width': 1, 'description': 'MM2S DMA Control Register', 'access': 'read-write'}, 'Err_IrqEn': {'bit_offset': 14, 'bit_width': 1, 'description': 'MM2S DMA Control Register', 'access': 'read-write'}, 'IRQThreshold': {'bit_offset': 16, 'bit_width': 8, 'description': 'MM2S DMA Control Register', 'access': 'read-write'}, 'IRQDelay': {'bit_offset': 24, 'bit_width': 8, 'description': 'MM2S DMA Control Register', 'access': 'read-write'}}}, 'MM2S_DMASR': {'address_offset': 4, 'size': 32, 'access': 'read-write', 'description': 'MM2S DMA Status Register', 'fields': {'Halted': {'bit_offset': 0, 'bit_width': 1, 'description': 'MM2S DMA Status Register', 'access': 'read-only'}, 'Idle': {'bit_offset': 1, 'bit_width': 1, 'description': 'MM2S DMA Status Register', 'access': 'read-only'}, 'SGIncld': {'bit_offset': 3, 'bit_width': 1, 'description': 'MM2S DMA Status Register', 'access': 'read-only'}, 'DMAIntErr': {'bit_offset': 4, 'bit_width': 1, 'description': 'MM2S DMA Status Register', 'access': 'read-only'}, 'DMASlvErr': {'bit_offset': 5, 'bit_width': 1, 'description': 'MM2S DMA Status Register', 'access': 'read-only'}, 'DMADecErr': {'bit_offset': 6, 'bit_width': 1, 'description': 'MM2S DMA Status Register', 'access': 'read-only'}, 'SGIntErr': {'bit_offset': 8, 'bit_width': 1, 'description': 'MM2S DMA Status Register', 'access': 'read-only'}, 'SGSlvErr': {'bit_offset': 9, 'bit_width': 1, 'description': 'MM2S DMA Status Register', 'access': 'read-only'}, 'SGDecErr': {'bit_offset': 10, 'bit_width': 1, 'description': 'MM2S DMA Status Register', 'access': 'read-only'}, 'IOC_Irq': {'bit_offset': 12, 'bit_width': 1, 'description': 'MM2S DMA Status Register', 'access': 'read-write'}, 'Dly_Irq': {'bit_offset': 13, 'bit_width': 1, 'description': 'MM2S DMA Status Register', 'access': 'read-write'}, 'Err_Irq': {'bit_offset': 14, 'bit_width': 1, 'description': 'MM2S DMA Status Register', 'access': 'read-write'}, 'IRQThresholdSts': {'bit_offset': 16, 'bit_width': 8, 'description': 'MM2S DMA Status Register', 'access': 'read-only'}, 'IRQDelaySts': {'bit_offset': 24, 'bit_width': 8, 'description': 'MM2S DMA Status Register', 'access': 'read-only'}}}, 'MM2S_CURDESC': {'address_offset': 8, 'size': 32, 'access': 'read-write', 'description': 'MM2S DMA Current Descriptor Pointer Register', 'fields': {'Current_Descriptor_Pointer': {'bit_offset': 6, 'bit_width': 26, 'description': 'MM2S DMA Current Descriptor Pointer Register', 'access': 'read-write'}}}, 'MM2S_CURDESC_MSB': {'address_offset': 12, 'size': 32, 'access': 'read-write', 'description': 'MM2S DMA Current Descriptor Pointer Register', 'fields': {'Current_Descriptor_Pointer': {'bit_offset': 0, 'bit_width': 32, 'description': 'MM2S DMA Current Descriptor Pointer Register', 'access': 'read-write'}}}, 'MM2S_TAILDESC': {'address_offset': 16, 'size': 32, 'access': 'read-write', 'description': 'MM2S DMA Tail Descriptor Pointer Register', 'fields': {'Tail_Descriptor_Pointer': {'bit_offset': 6, 'bit_width': 26, 'description': 'MM2S DMA Tail Descriptor Pointer Register', 'access': 'read-write'}}}, 'MM2S_TAILDESC_MSB': {'address_offset': 20, 'size': 32, 'access': 'read-write', 'description': 'MM2S DMA Tail Descriptor Pointer Register', 'fields': {'Tail_Descriptor_Pointer': {'bit_offset': 0, 'bit_width': 32, 'description': 'MM2S DMA Tail Descriptor Pointer Register', 'access': 'read-write'}}}, 'MM2S_SA': {'address_offset': 24, 'size': 32, 'access': 'read-write', 'description': 'MM2S Source Address Register', 'fields': {'Source_Address': {'bit_offset': 0, 'bit_width': 32, 'description': 'MM2S Source Address Register', 'access': 'read-write'}}}, 'MM2S_SA_MSB': {'address_offset': 28, 'size': 32, 'access': 'read-write', 'description': 'MM2S Source Address Register', 'fields': {'Source_Address': {'bit_offset': 0, 'bit_width': 32, 'description': 'MM2S Source Address Register', 'access': 'read-write'}}}, 'MM2S_LENGTH': {'address_offset': 40, 'size': 32, 'access': 'read-write', 'description': 'MM2S DMA Transfer Length Register', 'fields': {'Length': {'bit_offset': 0, 'bit_width': 26, 'description': 'MM2S DMA Transfer Length Register', 'access': 'read-write'}}}, 'SG_CTL': {'address_offset': 44, 'size': 32, 'access': 'read-write', 'description': 'Scatter/Gather User and Cache Control Register', 'fields': {'SG_CACHE': {'bit_offset': 0, 'bit_width': 4, 'description': 'Scatter/Gather User and Cache Control Register', 'access': 'read-write'}, 'SG_USER': {'bit_offset': 8, 'bit_width': 4, 'description': 'Scatter/Gather User and Cache Control Register', 'access': 'read-write'}}}, 'S2MM_DMACR': {'address_offset': 48, 'size': 32, 'access': 'read-write', 'description': 'S2MM DMA Control Register', 'fields': {'RS': {'bit_offset': 0, 'bit_width': 1, 'description': 'S2MM DMA Control Register', 'access': 'read-write'}, 'Reset': {'bit_offset': 2, 'bit_width': 1, 'description': 'S2MM DMA Control Register', 'access': 'read-write'}, 'Keyhole': {'bit_offset': 3, 'bit_width': 1, 'description': 'S2MM DMA Control Register', 'access': 'read-write'}, 'Cyclic_BD_Enable': {'bit_offset': 4, 'bit_width': 1, 'description': 'S2MM DMA Control Register', 'access': 'read-write'}, 'IOC_IrqEn': {'bit_offset': 12, 'bit_width': 1, 'description': 'S2MM DMA Control Register', 'access': 'read-write'}, 'Dly_IrqEn': {'bit_offset': 13, 'bit_width': 1, 'description': 'S2MM DMA Control Register', 'access': 'read-write'}, 'Err_IrqEn': {'bit_offset': 14, 'bit_width': 1, 'description': 'S2MM DMA Control Register', 'access': 'read-write'}, 'IRQThreshold': {'bit_offset': 16, 'bit_width': 8, 'description': 'S2MM DMA Control Register', 'access': 'read-write'}, 'IRQDelay': {'bit_offset': 24, 'bit_width': 8, 'description': 'S2MM DMA Control Register', 'access': 'read-write'}}}, 'S2MM_DMASR': {'address_offset': 52, 'size': 32, 'access': 'read-write', 'description': 'S2MM DMA Status Register', 'fields': {'Halted': {'bit_offset': 0, 'bit_width': 1, 'description': 'S2MM DMA Status Register', 'access': 'read-only'}, 'Idle': {'bit_offset': 1, 'bit_width': 1, 'description': 'S2MM DMA Status Register', 'access': 'read-only'}, 'SGIncld': {'bit_offset': 3, 'bit_width': 1, 'description': 'S2MM DMA Status Register', 'access': 'read-only'}, 'DMAIntErr': {'bit_offset': 4, 'bit_width': 1, 'description': 'S2MM DMA Status Register', 'access': 'read-only'}, 'DMASlvErr': {'bit_offset': 5, 'bit_width': 1, 'description': 'S2MM DMA Status Register', 'access': 'read-only'}, 'DMADecErr': {'bit_offset': 6, 'bit_width': 1, 'description': 'S2MM DMA Status Register', 'access': 'read-only'}, 'SGIntErr': {'bit_offset': 8, 'bit_width': 1, 'description': 'S2MM DMA Status Register', 'access': 'read-only'}, 'SGSlvErr': {'bit_offset': 9, 'bit_width': 1, 'description': 'S2MM DMA Status Register', 'access': 'read-only'}, 'SGDecErr': {'bit_offset': 10, 'bit_width': 1, 'description': 'S2MM DMA Status Register', 'access': 'read-only'}, 'IOC_Irq': {'bit_offset': 12, 'bit_width': 1, 'description': 'S2MM DMA Status Register', 'access': 'read-write'}, 'Dly_Irq': {'bit_offset': 13, 'bit_width': 1, 'description': 'S2MM DMA Status Register', 'access': 'read-write'}, 'Err_Irq': {'bit_offset': 14, 'bit_width': 1, 'description': 'S2MM DMA Status Register', 'access': 'read-write'}, 'IRQThresholdSts': {'bit_offset': 16, 'bit_width': 8, 'description': 'S2MM DMA Status Register', 'access': 'read-only'}, 'IRQDelaySts': {'bit_offset': 24, 'bit_width': 8, 'description': 'S2MM DMA Status Register', 'access': 'read-only'}}}, 'S2MM_CURDESC': {'address_offset': 56, 'size': 32, 'access': 'read-write', 'description': 'S2MM DMA Current Descriptor Pointer Register', 'fields': {'Current_Descriptor_Pointer': {'bit_offset': 6, 'bit_width': 26, 'description': 'S2MM DMA Current Descriptor Pointer Register', 'access': 'read-write'}}}, 'S2MM_CURDESC_MSB': {'address_offset': 60, 'size': 32, 'access': 'read-write', 'description': 'S2MM DMA Current Descriptor Pointer Register', 'fields': {'Current_Descriptor_Pointer': {'bit_offset': 0, 'bit_width': 32, 'description': 'S2MM DMA Current Descriptor Pointer Register', 'access': 'read-write'}}}, 'S2MM_TAILDESC': {'address_offset': 64, 'size': 32, 'access': 'read-write', 'description': 'S2MM DMA Tail Descriptor Pointer Register', 'fields': {'Tail_Descriptor_Pointer': {'bit_offset': 6, 'bit_width': 26, 'description': 'S2MM DMA Tail Descriptor Pointer Register', 'access': 'read-write'}}}, 'S2MM_TAILDESC_MSB': {'address_offset': 68, 'size': 32, 'access': 'read-write', 'description': 'S2MM DMA Tail Descriptor Pointer Register', 'fields': {'Tail_Descriptor_Pointer': {'bit_offset': 0, 'bit_width': 32, 'description': 'S2MM DMA Tail Descriptor Pointer Register', 'access': 'read-write'}}}, 'S2MM_DA': {'address_offset': 72, 'size': 32, 'access': 'read-write', 'description': 'S2MM DMA Destination Address Register', 'fields': {'Destination_Address': {'bit_offset': 0, 'bit_width': 32, 'description': 'S2MM DMA Destination Address Register', 'access': 'read-write'}}}, 'S2MM_DA_MSB': {'address_offset': 76, 'size': 32, 'access': 'read-write', 'description': 'S2MM Destination Address Register', 'fields': {'Destination_Address': {'bit_offset': 0, 'bit_width': 32, 'description': 'S2MM Destination Address Register', 'access': 'read-write'}}}, 'S2MM_LENGTH': {'address_offset': 88, 'size': 32, 'access': 'read-write', 'description': 'S2MM DMA Transfer Length Register', 'fields': {'Length': {'bit_offset': 0, 'bit_width': 26, 'description': 'S2MM DMA Transfer Length Register', 'access': 'read-write'}}}}, 'device': <pynq.pl_server.device.XlnkDevice object at 0xb034b6b0>, 'driver': <class 'pynq.lib.dma.DMA'>}, 'rng_0': {'fullpath': 'rng_0', 'type': 'spicer.local:user:rng:1.0', 'state': None, 'addr_range': 65536, 'phys_addr': 1136656384, 'mem_id': 'S00_AXI', 'gpio': {}, 'interrupts': {}, 'parameters': {'BURST_LENGTH': '16', 'C_M00_AXI_ADDR_WIDTH': '32', 'C_M00_AXI_DATA_WIDTH': '32', 'C_S00_AXI_ADDR_WIDTH': '4', 'C_S00_AXI_DATA_WIDTH': '32', 'TOTAL_SAMPLES': '1024', 'Component_Name': 'random_rng_0_0', 'EDK_IPTYPE': 'PERIPHERAL', 'C_S00_AXI_BASEADDR': '0x43C00000', 'C_S00_AXI_HIGHADDR': '0x43C0FFFF'}, 'registers': {}, 'device': <pynq.pl_server.device.XlnkDevice object at 0xb034b6b0>, 'driver': <class 'pynq.overlay.DefaultIP'>}}\n"
     ]
    }
   ],
   "source": [
    "print(ol.ip_dict)  # To view the IP block details"
   ]
  },
  {
   "cell_type": "code",
   "execution_count": 10,
   "metadata": {},
   "outputs": [
    {
     "ename": "KeyError",
     "evalue": "''",
     "output_type": "error",
     "traceback": [
      "\u001b[0;31m---------------------------------------------------------------------------\u001b[0m",
      "\u001b[0;31mKeyError\u001b[0m                                  Traceback (most recent call last)",
      "\u001b[0;32m<ipython-input-10-8197f02df760>\u001b[0m in \u001b[0;36m<module>\u001b[0;34m()\u001b[0m\n\u001b[1;32m      1\u001b[0m \u001b[0;31m# Access the DMA\u001b[0m\u001b[0;34m\u001b[0m\u001b[0;34m\u001b[0m\u001b[0m\n\u001b[0;32m----> 2\u001b[0;31m \u001b[0mdma\u001b[0m \u001b[0;34m=\u001b[0m \u001b[0mol\u001b[0m\u001b[0;34m.\u001b[0m\u001b[0maxi_dma_0\u001b[0m\u001b[0;34m\u001b[0m\u001b[0m\n\u001b[0m",
      "\u001b[0;32m/usr/local/lib/python3.6/dist-packages/pynq/overlay.py\u001b[0m in \u001b[0;36m__getattr__\u001b[0;34m(self, key)\u001b[0m\n\u001b[1;32m    354\u001b[0m         \"\"\"\n\u001b[1;32m    355\u001b[0m         \u001b[0;32mif\u001b[0m \u001b[0mself\u001b[0m\u001b[0;34m.\u001b[0m\u001b[0mis_loaded\u001b[0m\u001b[0;34m(\u001b[0m\u001b[0;34m)\u001b[0m\u001b[0;34m:\u001b[0m\u001b[0;34m\u001b[0m\u001b[0m\n\u001b[0;32m--> 356\u001b[0;31m             \u001b[0;32mreturn\u001b[0m \u001b[0mgetattr\u001b[0m\u001b[0;34m(\u001b[0m\u001b[0mself\u001b[0m\u001b[0;34m.\u001b[0m\u001b[0m_ip_map\u001b[0m\u001b[0;34m,\u001b[0m \u001b[0mkey\u001b[0m\u001b[0;34m)\u001b[0m\u001b[0;34m\u001b[0m\u001b[0m\n\u001b[0m\u001b[1;32m    357\u001b[0m         \u001b[0;32melse\u001b[0m\u001b[0;34m:\u001b[0m\u001b[0;34m\u001b[0m\u001b[0m\n\u001b[1;32m    358\u001b[0m             \u001b[0;32mraise\u001b[0m \u001b[0mRuntimeError\u001b[0m\u001b[0;34m(\u001b[0m\u001b[0;34m\"Overlay not currently loaded\"\u001b[0m\u001b[0;34m)\u001b[0m\u001b[0;34m\u001b[0m\u001b[0m\n",
      "\u001b[0;32m/usr/local/lib/python3.6/dist-packages/pynq/overlay.py\u001b[0m in \u001b[0;36m__getattr__\u001b[0;34m(self, key)\u001b[0m\n\u001b[1;32m    859\u001b[0m         \u001b[0;32melif\u001b[0m \u001b[0mkey\u001b[0m \u001b[0;32min\u001b[0m \u001b[0mself\u001b[0m\u001b[0;34m.\u001b[0m\u001b[0m_description\u001b[0m\u001b[0;34m[\u001b[0m\u001b[0;34m'ip'\u001b[0m\u001b[0;34m]\u001b[0m\u001b[0;34m:\u001b[0m\u001b[0;34m\u001b[0m\u001b[0m\n\u001b[1;32m    860\u001b[0m             \u001b[0mipdescription\u001b[0m \u001b[0;34m=\u001b[0m \u001b[0mself\u001b[0m\u001b[0;34m.\u001b[0m\u001b[0m_description\u001b[0m\u001b[0;34m[\u001b[0m\u001b[0;34m'ip'\u001b[0m\u001b[0;34m]\u001b[0m\u001b[0;34m[\u001b[0m\u001b[0mkey\u001b[0m\u001b[0;34m]\u001b[0m\u001b[0;34m\u001b[0m\u001b[0m\n\u001b[0;32m--> 861\u001b[0;31m             \u001b[0mdriver\u001b[0m \u001b[0;34m=\u001b[0m \u001b[0mipdescription\u001b[0m\u001b[0;34m[\u001b[0m\u001b[0;34m'driver'\u001b[0m\u001b[0;34m]\u001b[0m\u001b[0;34m(\u001b[0m\u001b[0mipdescription\u001b[0m\u001b[0;34m)\u001b[0m\u001b[0;34m\u001b[0m\u001b[0m\n\u001b[0m\u001b[1;32m    862\u001b[0m             \u001b[0msetattr\u001b[0m\u001b[0;34m(\u001b[0m\u001b[0mself\u001b[0m\u001b[0;34m,\u001b[0m \u001b[0mkey\u001b[0m\u001b[0;34m,\u001b[0m \u001b[0mdriver\u001b[0m\u001b[0;34m)\u001b[0m\u001b[0;34m\u001b[0m\u001b[0m\n\u001b[1;32m    863\u001b[0m             \u001b[0;32mreturn\u001b[0m \u001b[0mdriver\u001b[0m\u001b[0;34m\u001b[0m\u001b[0m\n",
      "\u001b[0;32m/usr/local/lib/python3.6/dist-packages/pynq/lib/dma.py\u001b[0m in \u001b[0;36m__init__\u001b[0;34m(self, description, *args, **kwargs)\u001b[0m\n\u001b[1;32m    188\u001b[0m                                \u001b[0;34m'has been deprecated and moved to '\u001b[0m\u001b[0;34m\u001b[0m\u001b[0m\n\u001b[1;32m    189\u001b[0m                                'pynq.lib.deprecated')\n\u001b[0;32m--> 190\u001b[0;31m         \u001b[0msuper\u001b[0m\u001b[0;34m(\u001b[0m\u001b[0;34m)\u001b[0m\u001b[0;34m.\u001b[0m\u001b[0m__init__\u001b[0m\u001b[0;34m(\u001b[0m\u001b[0mdescription\u001b[0m\u001b[0;34m=\u001b[0m\u001b[0mdescription\u001b[0m\u001b[0;34m)\u001b[0m\u001b[0;34m\u001b[0m\u001b[0m\n\u001b[0m\u001b[1;32m    191\u001b[0m \u001b[0;34m\u001b[0m\u001b[0m\n\u001b[1;32m    192\u001b[0m         \u001b[0;32mif\u001b[0m \u001b[0;34m'parameters'\u001b[0m \u001b[0;32min\u001b[0m \u001b[0mdescription\u001b[0m \u001b[0;32mand\u001b[0m\u001b[0;31m \u001b[0m\u001b[0;31m\\\u001b[0m\u001b[0;34m\u001b[0m\u001b[0m\n",
      "\u001b[0;32m/usr/local/lib/python3.6/dist-packages/pynq/overlay.py\u001b[0m in \u001b[0;36m__init__\u001b[0;34m(self, description)\u001b[0m\n\u001b[1;32m    647\u001b[0m             \u001b[0mself\u001b[0m\u001b[0;34m.\u001b[0m\u001b[0m_gpio\u001b[0m \u001b[0;34m=\u001b[0m \u001b[0;34m{\u001b[0m\u001b[0;34m}\u001b[0m\u001b[0;34m\u001b[0m\u001b[0m\n\u001b[1;32m    648\u001b[0m         \u001b[0;32mfor\u001b[0m \u001b[0minterrupt\u001b[0m\u001b[0;34m,\u001b[0m \u001b[0mdetails\u001b[0m \u001b[0;32min\u001b[0m \u001b[0mself\u001b[0m\u001b[0;34m.\u001b[0m\u001b[0m_interrupts\u001b[0m\u001b[0;34m.\u001b[0m\u001b[0mitems\u001b[0m\u001b[0;34m(\u001b[0m\u001b[0;34m)\u001b[0m\u001b[0;34m:\u001b[0m\u001b[0;34m\u001b[0m\u001b[0m\n\u001b[0;32m--> 649\u001b[0;31m             \u001b[0msetattr\u001b[0m\u001b[0;34m(\u001b[0m\u001b[0mself\u001b[0m\u001b[0;34m,\u001b[0m \u001b[0minterrupt\u001b[0m\u001b[0;34m,\u001b[0m \u001b[0mInterrupt\u001b[0m\u001b[0;34m(\u001b[0m\u001b[0mdetails\u001b[0m\u001b[0;34m[\u001b[0m\u001b[0;34m'fullpath'\u001b[0m\u001b[0;34m]\u001b[0m\u001b[0;34m)\u001b[0m\u001b[0;34m)\u001b[0m\u001b[0;34m\u001b[0m\u001b[0m\n\u001b[0m\u001b[1;32m    650\u001b[0m         \u001b[0;32mfor\u001b[0m \u001b[0mgpio\u001b[0m\u001b[0;34m,\u001b[0m \u001b[0mentry\u001b[0m \u001b[0;32min\u001b[0m \u001b[0mself\u001b[0m\u001b[0;34m.\u001b[0m\u001b[0m_gpio\u001b[0m\u001b[0;34m.\u001b[0m\u001b[0mitems\u001b[0m\u001b[0;34m(\u001b[0m\u001b[0;34m)\u001b[0m\u001b[0;34m:\u001b[0m\u001b[0;34m\u001b[0m\u001b[0m\n\u001b[1;32m    651\u001b[0m             \u001b[0mgpio_number\u001b[0m \u001b[0;34m=\u001b[0m \u001b[0mGPIO\u001b[0m\u001b[0;34m.\u001b[0m\u001b[0mget_gpio_pin\u001b[0m\u001b[0;34m(\u001b[0m\u001b[0mentry\u001b[0m\u001b[0;34m[\u001b[0m\u001b[0;34m'index'\u001b[0m\u001b[0;34m]\u001b[0m\u001b[0;34m)\u001b[0m\u001b[0;34m\u001b[0m\u001b[0m\n",
      "\u001b[0;32m/usr/local/lib/python3.6/dist-packages/pynq/interrupt.py\u001b[0m in \u001b[0;36m__init__\u001b[0;34m(self, pinname)\u001b[0m\n\u001b[1;32m     96\u001b[0m         \u001b[0mself\u001b[0m\u001b[0;34m.\u001b[0m\u001b[0mnumber\u001b[0m \u001b[0;34m=\u001b[0m \u001b[0mPL\u001b[0m\u001b[0;34m.\u001b[0m\u001b[0minterrupt_pins\u001b[0m\u001b[0;34m[\u001b[0m\u001b[0mpinname\u001b[0m\u001b[0;34m]\u001b[0m\u001b[0;34m[\u001b[0m\u001b[0;34m'index'\u001b[0m\u001b[0;34m]\u001b[0m\u001b[0;34m\u001b[0m\u001b[0m\n\u001b[1;32m     97\u001b[0m         self.parent = weakref.ref(\n\u001b[0;32m---> 98\u001b[0;31m             _InterruptController.get_controller(parentname))\n\u001b[0m\u001b[1;32m     99\u001b[0m         \u001b[0mself\u001b[0m\u001b[0;34m.\u001b[0m\u001b[0mevent\u001b[0m \u001b[0;34m=\u001b[0m \u001b[0masyncio\u001b[0m\u001b[0;34m.\u001b[0m\u001b[0mEvent\u001b[0m\u001b[0;34m(\u001b[0m\u001b[0;34m)\u001b[0m\u001b[0;34m\u001b[0m\u001b[0m\n\u001b[1;32m    100\u001b[0m         \u001b[0mself\u001b[0m\u001b[0;34m.\u001b[0m\u001b[0mwaiting\u001b[0m \u001b[0;34m=\u001b[0m \u001b[0;32mFalse\u001b[0m\u001b[0;34m\u001b[0m\u001b[0m\n",
      "\u001b[0;32m/usr/local/lib/python3.6/dist-packages/pynq/interrupt.py\u001b[0m in \u001b[0;36mget_controller\u001b[0;34m(name)\u001b[0m\n\u001b[1;32m    157\u001b[0m             \u001b[0;32mif\u001b[0m \u001b[0mcon\u001b[0m\u001b[0;34m.\u001b[0m\u001b[0mname\u001b[0m \u001b[0;34m==\u001b[0m \u001b[0mname\u001b[0m\u001b[0;34m:\u001b[0m\u001b[0;34m\u001b[0m\u001b[0m\n\u001b[1;32m    158\u001b[0m                 \u001b[0;32mreturn\u001b[0m \u001b[0mcon\u001b[0m\u001b[0;34m\u001b[0m\u001b[0m\n\u001b[0;32m--> 159\u001b[0;31m         \u001b[0mret\u001b[0m \u001b[0;34m=\u001b[0m \u001b[0m_InterruptController\u001b[0m\u001b[0;34m(\u001b[0m\u001b[0mname\u001b[0m\u001b[0;34m)\u001b[0m\u001b[0;34m\u001b[0m\u001b[0m\n\u001b[0m\u001b[1;32m    160\u001b[0m         \u001b[0m_InterruptController\u001b[0m\u001b[0;34m.\u001b[0m\u001b[0m_controllers\u001b[0m\u001b[0;34m.\u001b[0m\u001b[0mappend\u001b[0m\u001b[0;34m(\u001b[0m\u001b[0mret\u001b[0m\u001b[0;34m)\u001b[0m\u001b[0;34m\u001b[0m\u001b[0m\n\u001b[1;32m    161\u001b[0m         \u001b[0;32mreturn\u001b[0m \u001b[0mret\u001b[0m\u001b[0;34m\u001b[0m\u001b[0m\n",
      "\u001b[0;32m/usr/local/lib/python3.6/dist-packages/pynq/interrupt.py\u001b[0m in \u001b[0;36m__init__\u001b[0;34m(self, name)\u001b[0m\n\u001b[1;32m    175\u001b[0m         \"\"\"\n\u001b[1;32m    176\u001b[0m         \u001b[0mself\u001b[0m\u001b[0;34m.\u001b[0m\u001b[0mname\u001b[0m \u001b[0;34m=\u001b[0m \u001b[0mname\u001b[0m\u001b[0;34m\u001b[0m\u001b[0m\n\u001b[0;32m--> 177\u001b[0;31m         \u001b[0mself\u001b[0m\u001b[0;34m.\u001b[0m\u001b[0mmmio\u001b[0m \u001b[0;34m=\u001b[0m \u001b[0mMMIO\u001b[0m\u001b[0;34m(\u001b[0m\u001b[0mPL\u001b[0m\u001b[0;34m.\u001b[0m\u001b[0mip_dict\u001b[0m\u001b[0;34m[\u001b[0m\u001b[0mname\u001b[0m\u001b[0;34m]\u001b[0m\u001b[0;34m[\u001b[0m\u001b[0;34m'phys_addr'\u001b[0m\u001b[0;34m]\u001b[0m\u001b[0;34m,\u001b[0m \u001b[0;36m32\u001b[0m\u001b[0;34m)\u001b[0m\u001b[0;34m\u001b[0m\u001b[0m\n\u001b[0m\u001b[1;32m    178\u001b[0m         \u001b[0mself\u001b[0m\u001b[0;34m.\u001b[0m\u001b[0mwait_handles\u001b[0m \u001b[0;34m=\u001b[0m \u001b[0;34m[\u001b[0m\u001b[0;34m[\u001b[0m\u001b[0;34m]\u001b[0m \u001b[0;32mfor\u001b[0m \u001b[0m_\u001b[0m \u001b[0;32min\u001b[0m \u001b[0mrange\u001b[0m\u001b[0;34m(\u001b[0m\u001b[0;36m32\u001b[0m\u001b[0;34m)\u001b[0m\u001b[0;34m]\u001b[0m\u001b[0;34m\u001b[0m\u001b[0m\n\u001b[1;32m    179\u001b[0m         \u001b[0mself\u001b[0m\u001b[0;34m.\u001b[0m\u001b[0mevent_number\u001b[0m \u001b[0;34m=\u001b[0m \u001b[0;36m0\u001b[0m\u001b[0;34m\u001b[0m\u001b[0m\n",
      "\u001b[0;31mKeyError\u001b[0m: ''"
     ]
    }
   ],
   "source": [
    "# Access the DMA\n",
    "dma = ol.axi_dma_0"
   ]
  },
  {
   "cell_type": "code",
   "execution_count": 11,
   "metadata": {
    "vscode": {
     "languageId": "plaintext"
    }
   },
   "outputs": [
    {
     "ename": "NameError",
     "evalue": "name 'overlay' is not defined",
     "output_type": "error",
     "traceback": [
      "\u001b[0;31m---------------------------------------------------------------------------\u001b[0m",
      "\u001b[0;31mNameError\u001b[0m                                 Traceback (most recent call last)",
      "\u001b[0;32m<ipython-input-11-c4a40ce55861>\u001b[0m in \u001b[0;36m<module>\u001b[0;34m()\u001b[0m\n\u001b[1;32m      4\u001b[0m \u001b[0;34m\u001b[0m\u001b[0m\n\u001b[1;32m      5\u001b[0m \u001b[0;31m# Start the Random IP\u001b[0m\u001b[0;34m\u001b[0m\u001b[0;34m\u001b[0m\u001b[0m\n\u001b[0;32m----> 6\u001b[0;31m \u001b[0mrandom_ip\u001b[0m \u001b[0;34m=\u001b[0m \u001b[0moverlay\u001b[0m\u001b[0;34m.\u001b[0m\u001b[0mrandom_ip_0\u001b[0m\u001b[0;34m\u001b[0m\u001b[0m\n\u001b[0m\u001b[1;32m      7\u001b[0m \u001b[0mrandom_ip\u001b[0m\u001b[0;34m.\u001b[0m\u001b[0mwrite\u001b[0m\u001b[0;34m(\u001b[0m\u001b[0;36m0x0\u001b[0m\u001b[0;34m,\u001b[0m \u001b[0;36m1\u001b[0m\u001b[0;34m)\u001b[0m  \u001b[0;31m# Start the random number generation\u001b[0m\u001b[0;34m\u001b[0m\u001b[0m\n\u001b[1;32m      8\u001b[0m \u001b[0;34m\u001b[0m\u001b[0m\n",
      "\u001b[0;31mNameError\u001b[0m: name 'overlay' is not defined"
     ]
    }
   ],
   "source": [
    "# Allocate buffer for reading data\n",
    "num_samples = 1024\n",
    "buffer = allocate(shape=(num_samples,), dtype='uint32')\n",
    "\n",
    "# Start the Random IP\n",
    "random_ip = overlay.random_ip_0\n",
    "random_ip.write(0x0, 1)  # Start the random number generation\n",
    "\n",
    "# Wait for DMA to complete the transfer\n",
    "print(\"Starting DMA transfer...\")\n",
    "dma.recvchannel.start()\n",
    "dma.recvchannel.transfer(buffer)\n",
    "\n",
    "# Wait for DMA transfer to complete\n",
    "dma.recvchannel.wait()\n",
    "\n",
    "# Print received random numbers\n",
    "print(\"DMA Transfer Complete. Random Numbers:\")\n",
    "print(buffer)"
   ]
  },
  {
   "cell_type": "code",
   "execution_count": null,
   "metadata": {},
   "outputs": [],
   "source": []
  }
 ],
 "metadata": {
  "kernelspec": {
   "display_name": "Python 3",
   "language": "python",
   "name": "python3"
  },
  "language_info": {
   "codemirror_mode": {
    "name": "ipython",
    "version": 3
   },
   "file_extension": ".py",
   "mimetype": "text/x-python",
   "name": "python",
   "nbconvert_exporter": "python",
   "pygments_lexer": "ipython3",
   "version": "3.6.5"
  }
 },
 "nbformat": 4,
 "nbformat_minor": 2
}
