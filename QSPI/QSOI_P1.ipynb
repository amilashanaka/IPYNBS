{
 "cells": [
  {
   "cell_type": "code",
   "execution_count": 11,
   "metadata": {},
   "outputs": [
    {
     "ename": "AttributeError",
     "evalue": "Could not find IP or hierarchy axi_quad_spi_0 in overlay",
     "output_type": "error",
     "traceback": [
      "\u001b[0;31m---------------------------------------------------------------------------\u001b[0m",
      "\u001b[0;31mAttributeError\u001b[0m                            Traceback (most recent call last)",
      "\u001b[0;32m<ipython-input-11-87c9e00ea151>\u001b[0m in \u001b[0;36m<module>\u001b[0;34m()\u001b[0m\n\u001b[1;32m      9\u001b[0m \u001b[0mol\u001b[0m \u001b[0;34m=\u001b[0m \u001b[0mOverlay\u001b[0m\u001b[0;34m(\u001b[0m\u001b[0;34m\"qspi.bit\"\u001b[0m\u001b[0;34m)\u001b[0m\u001b[0;34m\u001b[0m\u001b[0m\n\u001b[1;32m     10\u001b[0m \u001b[0;34m\u001b[0m\u001b[0m\n\u001b[0;32m---> 11\u001b[0;31m \u001b[0mspi\u001b[0m \u001b[0;34m=\u001b[0m \u001b[0mol\u001b[0m\u001b[0;34m.\u001b[0m\u001b[0maxi_quad_spi_0\u001b[0m\u001b[0;34m\u001b[0m\u001b[0m\n\u001b[0m\u001b[1;32m     12\u001b[0m \u001b[0;34m\u001b[0m\u001b[0m\n",
      "\u001b[0;32m/usr/local/lib/python3.6/dist-packages/pynq/overlay.py\u001b[0m in \u001b[0;36m__getattr__\u001b[0;34m(self, key)\u001b[0m\n\u001b[1;32m    354\u001b[0m         \"\"\"\n\u001b[1;32m    355\u001b[0m         \u001b[0;32mif\u001b[0m \u001b[0mself\u001b[0m\u001b[0;34m.\u001b[0m\u001b[0mis_loaded\u001b[0m\u001b[0;34m(\u001b[0m\u001b[0;34m)\u001b[0m\u001b[0;34m:\u001b[0m\u001b[0;34m\u001b[0m\u001b[0m\n\u001b[0;32m--> 356\u001b[0;31m             \u001b[0;32mreturn\u001b[0m \u001b[0mgetattr\u001b[0m\u001b[0;34m(\u001b[0m\u001b[0mself\u001b[0m\u001b[0;34m.\u001b[0m\u001b[0m_ip_map\u001b[0m\u001b[0;34m,\u001b[0m \u001b[0mkey\u001b[0m\u001b[0;34m)\u001b[0m\u001b[0;34m\u001b[0m\u001b[0m\n\u001b[0m\u001b[1;32m    357\u001b[0m         \u001b[0;32melse\u001b[0m\u001b[0;34m:\u001b[0m\u001b[0;34m\u001b[0m\u001b[0m\n\u001b[1;32m    358\u001b[0m             \u001b[0;32mraise\u001b[0m \u001b[0mRuntimeError\u001b[0m\u001b[0;34m(\u001b[0m\u001b[0;34m\"Overlay not currently loaded\"\u001b[0m\u001b[0;34m)\u001b[0m\u001b[0;34m\u001b[0m\u001b[0m\n",
      "\u001b[0;32m/usr/local/lib/python3.6/dist-packages/pynq/overlay.py\u001b[0m in \u001b[0;36m__getattr__\u001b[0;34m(self, key)\u001b[0m\n\u001b[1;32m    880\u001b[0m         \u001b[0;32melse\u001b[0m\u001b[0;34m:\u001b[0m\u001b[0;34m\u001b[0m\u001b[0m\n\u001b[1;32m    881\u001b[0m             raise AttributeError(\n\u001b[0;32m--> 882\u001b[0;31m                 \"Could not find IP or hierarchy {} in overlay\".format(key))\n\u001b[0m\u001b[1;32m    883\u001b[0m \u001b[0;34m\u001b[0m\u001b[0m\n\u001b[1;32m    884\u001b[0m     \u001b[0;32mdef\u001b[0m \u001b[0m_keys\u001b[0m\u001b[0;34m(\u001b[0m\u001b[0mself\u001b[0m\u001b[0;34m)\u001b[0m\u001b[0;34m:\u001b[0m\u001b[0;34m\u001b[0m\u001b[0m\n",
      "\u001b[0;31mAttributeError\u001b[0m: Could not find IP or hierarchy axi_quad_spi_0 in overlay"
     ]
    }
   ],
   "source": [
    "import pynq\n",
    "from pynq import Overlay\n",
    "from pynq import MMIO\n",
    "import time\n",
    "from operator import*\n",
    "import matplotlib.pyplot as plt\n",
    "\n",
    "# Load the SPI overlay\n",
    "ol = Overlay(\"qspi.bit\")\n",
    "\n",
    "spi = ol.axi_quad_spi_0\n",
    "\n"
   ]
  },
  {
   "cell_type": "code",
   "execution_count": 7,
   "metadata": {},
   "outputs": [
    {
     "name": "stdout",
     "output_type": "stream",
     "text": [
      "['__class__', '__delattr__', '__dict__', '__dir__', '__doc__', '__eq__', '__format__', '__ge__', '__getattr__', '__getattribute__', '__gt__', '__hash__', '__init__', '__init_subclass__', '__le__', '__lt__', '__module__', '__ne__', '__new__', '__reduce__', '__reduce_ex__', '__repr__', '__setattr__', '__sizeof__', '__str__', '__subclasshook__', '__weakref__', '_deepcopy_dict_from', '_ip_map', 'binfile_name', 'bit_data', 'bitfile_name', 'clock_dict', 'device', 'download', 'dtbo', 'firmware_path', 'free', 'gpio_dict', 'hierarchy_dict', 'ignore_version', 'insert_dtbo', 'interrupt_controllers', 'interrupt_pins', 'ip_dict', 'is_loaded', 'load_ip_data', 'mem_dict', 'parser', 'partial', 'pr_dict', 'pr_download', 'processing_system7_0', 'remove_dtbo', 'reset', 'timestamp']\n"
     ]
    }
   ],
   "source": [
    "\n",
    "print(dir(ol))"
   ]
  },
  {
   "cell_type": "code",
   "execution_count": 8,
   "metadata": {},
   "outputs": [],
   "source": [
    "def init(spi, phase=0, polarity=0):\n",
    "    spi.write(0x40, 0x0a)\n",
    "    spi.write(0x28, 0x04)\n",
    "    spi.write(0x1c, 0)\n",
    "    spi.write(0x70, 0xFFFFFFFF)\n",
    "    ctrlreg = spi.read(0x60)\n",
    "    ctrlreg = ctrlreg | 0xe6\n",
    "    spi.write(0x60, ctrlreg)\n",
    "    ctrlreg = spi.read(0x60)\n",
    "    ctrlreg = ctrlreg & ~(0x18) \n",
    "    if phase == 1:\n",
    "        ctrlreg = ctrlreg | 0x10\n",
    "    if polarity == 1:\n",
    "        ctrlreg = ctrlreg | 0x08\n",
    "    spi.write(0x60, ctrlreg)"
   ]
  },
  {
   "cell_type": "code",
   "execution_count": 9,
   "metadata": {},
   "outputs": [],
   "source": [
    "def transfer(packet, spi):\n",
    "    for data in packet:\n",
    "        spi.write(0x68, data)\n",
    "        spi.write(0x70, 0xFFFFFFFE)\n",
    "        ctrlreg = spi.read(0x60)\n",
    "        ctrlreg = ctrlreg & ~(0x100)\n",
    "        spi.write(0x60, ctrlreg)\n",
    "        statReg = spi.read(0x64)\n",
    "        while (statReg & 0x04) == 0:\n",
    "            statReg = spi.read(0x64)\n",
    "        ctrlreg = spi.read(0x60)\n",
    "        ctrlreg = ctrlreg | 0x100\n",
    "        spi.write(0x60, ctrlreg)\n",
    "    spi.write(0x70, 0xFFFFFFFF)\n",
    "    recvData = list()\n",
    "    RxFifoStatus = spi.read(0x64) & 0x01\n",
    "    while RxFifoStatus == 0:\n",
    "        temp = spi.read(0x6c)\n",
    "        recvData.append(temp)\n",
    "        RxFifoStatus = spi.read(0x64) & 0x01\n",
    "    return recvData"
   ]
  },
  {
   "cell_type": "code",
   "execution_count": 10,
   "metadata": {},
   "outputs": [
    {
     "ename": "NameError",
     "evalue": "name 'spi' is not defined",
     "output_type": "error",
     "traceback": [
      "\u001b[0;31m---------------------------------------------------------------------------\u001b[0m",
      "\u001b[0;31mNameError\u001b[0m                                 Traceback (most recent call last)",
      "\u001b[0;32m<ipython-input-10-d732384ac68b>\u001b[0m in \u001b[0;36m<module>\u001b[0;34m()\u001b[0m\n\u001b[1;32m      1\u001b[0m \u001b[0;31m# Initialize SPI with correct phase/polarity for the ADC\u001b[0m\u001b[0;34m\u001b[0m\u001b[0;34m\u001b[0m\u001b[0m\n\u001b[0;32m----> 2\u001b[0;31m \u001b[0minit\u001b[0m\u001b[0;34m(\u001b[0m\u001b[0mspi\u001b[0m\u001b[0;34m,\u001b[0m \u001b[0mphase\u001b[0m\u001b[0;34m=\u001b[0m\u001b[0;36m1\u001b[0m\u001b[0;34m,\u001b[0m \u001b[0mpolarity\u001b[0m\u001b[0;34m=\u001b[0m\u001b[0;36m1\u001b[0m\u001b[0;34m)\u001b[0m  \u001b[0;31m# Modify based on the ADC requirements\u001b[0m\u001b[0;34m\u001b[0m\u001b[0m\n\u001b[0m\u001b[1;32m      3\u001b[0m \u001b[0;34m\u001b[0m\u001b[0m\n\u001b[1;32m      4\u001b[0m \u001b[0mvalues_channel_0\u001b[0m \u001b[0;34m=\u001b[0m \u001b[0;34m[\u001b[0m\u001b[0;34m]\u001b[0m  \u001b[0;31m# List to store Channel 0 readings\u001b[0m\u001b[0;34m\u001b[0m\u001b[0m\n\u001b[1;32m      5\u001b[0m \u001b[0;32mfor\u001b[0m \u001b[0mi\u001b[0m \u001b[0;32min\u001b[0m \u001b[0mrange\u001b[0m\u001b[0;34m(\u001b[0m\u001b[0;36m200\u001b[0m\u001b[0;34m)\u001b[0m\u001b[0;34m:\u001b[0m  \u001b[0;31m# Increase the number of readings\u001b[0m\u001b[0;34m\u001b[0m\u001b[0m\n",
      "\u001b[0;31mNameError\u001b[0m: name 'spi' is not defined"
     ]
    }
   ],
   "source": [
    "# Initialize SPI with correct phase/polarity for the ADC\n",
    "init(spi, phase=1, polarity=1)  # Modify based on the ADC requirements\n",
    "\n",
    "values_channel_0 = []  # List to store Channel 0 readings\n",
    "for i in range(200):  # Increase the number of readings\n",
    "    sendData = transfer([128+i, i*i+2], spi)  # Send dummy data\n",
    "    recvData = transfer([0], spi)  # Read data (Channel 0)\n",
    "    values_channel_0.append(recvData[0])  # Append the first received value\n",
    "    time.sleep(0.01)  # Shorten delay for faster sampling\n",
    "\n",
    "\n",
    "    \n",
    "\n",
    "# Assuming a 12-bit ADC with 3.3V reference voltage\n",
    "V_ref = 3.3\n",
    "resolution = 4096  # 2^12 for 12-bit ADC\n",
    "\n",
    "scaled_values = [value * V_ref /resolution for value in values_channel_0]\n",
    "\n",
    "# Plot the scaled data\n",
    "plt.plot(scaled_values)\n",
    "plt.title('ADC Channel 0 Voltage Plot')\n",
    "plt.xlabel('Reading Index')\n",
    "plt.ylabel('Voltage (V)')\n",
    "plt.grid(True)\n",
    "plt.show()\n"
   ]
  },
  {
   "cell_type": "code",
   "execution_count": null,
   "metadata": {},
   "outputs": [],
   "source": []
  }
 ],
 "metadata": {
  "kernelspec": {
   "display_name": "Python 3",
   "language": "python",
   "name": "python3"
  },
  "language_info": {
   "codemirror_mode": {
    "name": "ipython",
    "version": 3
   },
   "file_extension": ".py",
   "mimetype": "text/x-python",
   "name": "python",
   "nbconvert_exporter": "python",
   "pygments_lexer": "ipython3",
   "version": "3.6.5"
  }
 },
 "nbformat": 4,
 "nbformat_minor": 2
}
